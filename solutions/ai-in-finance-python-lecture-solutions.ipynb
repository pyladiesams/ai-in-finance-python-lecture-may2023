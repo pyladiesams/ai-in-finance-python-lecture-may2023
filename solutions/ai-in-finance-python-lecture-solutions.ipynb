{
  "nbformat": 4,
  "nbformat_minor": 0,
  "metadata": {
    "colab": {
      "provenance": [],
      "toc_visible": true
    },
    "kernelspec": {
      "name": "python3",
      "display_name": "Python 3"
    },
    "language_info": {
      "name": "python"
    }
  },
  "cells": [
    {
      "cell_type": "markdown",
      "source": [
        "# Python Lecture: AI in Finance\n",
        "**Instructor:** Alyona Galyeva\n",
        "\n",
        "In this lecture we will explore how AI can be used in Finance, how to create a simple AI chatbot, what are the consequences of using such an AI chatbot and other AI models in real life.\n",
        "\n",
        "\n",
        "---\n",
        "\n",
        "\n",
        "***Learning objectives***\n",
        "\n",
        "After completing this lecture, you will be able to:\n",
        "\n",
        "* explain how AI can be used in Finance\n",
        "* create a simple AI chatbot in Python\n",
        "* combat consequences of using such an AI chatbot and other AI models in real life\n",
        "\n",
        "\n",
        "---\n",
        "\n",
        "\n",
        "Prerequisites: \n",
        "* Laptop\n",
        "* Access to the internet\n",
        "* Google account (to execute code in a Google collab notebook)\n",
        "* Basic Python knowledge\n"
      ],
      "metadata": {
        "id": "MfCDJSuybsp7"
      }
    },
    {
      "cell_type": "markdown",
      "source": [
        "# Introduction (5 min)"
      ],
      "metadata": {
        "id": "D2O_sw-Iaoms"
      }
    },
    {
      "cell_type": "markdown",
      "source": [
        "## About Alyona Galyeva\n",
        "\n",
        "[Alyona Galyeva](https://nl.linkedin.com/in/alyonagalyeva) is a Principal Data & AI Engineer at [Thoughtworks](https://www.thoughtworks.com/), PyLadies Amsterdam organiser and Microsoft AI MVP. She found joy in building, optimizing and deploying end-to-end AI and Data Engineering Solutions."
      ],
      "metadata": {
        "id": "eI2UpaJxeVvt"
      }
    },
    {
      "cell_type": "markdown",
      "source": [
        "## About PyLadies Amsterdam\n",
        "\n",
        "[PyLadies Amsterdam](https://amsterdam.pyladies.com/) is a local chapter of a global non-profit organization PyLadies.\n",
        "\n",
        "We are acting on diversity in technology by organizing coding events tailored by level and topic so Python programmers can do what they love: program and help peers to write cleaner and better code.\n",
        "\n",
        "We make sure the audience and stage contains at least 50% women."
      ],
      "metadata": {
        "id": "LFJ4b607orYM"
      }
    },
    {
      "cell_type": "markdown",
      "source": [
        "# AI in Finance: Theory (20 min)"
      ],
      "metadata": {
        "id": "phD4L3TPao-R"
      }
    },
    {
      "cell_type": "markdown",
      "source": [
        "## What differentiates financial sector in using AI\n",
        "\n",
        "The challenges provided by an increasing adoption of AI are not exclusive to the financial sector. Still, from an AI-perspective finance differs from other industries in a number of important ways that warrant an adequate regulatory and supervisory response.\n",
        "\n",
        "One such difference is that ***the financial sector is commonly held to a higher societal standard*** than many other industries, as trust in financial\n",
        "institutions is considered essential for an effective financial system. Furthermore, many consumers regard financial institutions like banks, insurance\n",
        "companies, and pension funds ***to be providers of a utility function***. The data that these companies extract from their customers are therefore regarded as a by-product of this function, instead of a commercial asset for the financial sector to monetise. Even data usage that is acceptable from a strictly legalistic perspective can result in material reputational damage if it does not correspond to the expectations of society at large.\n",
        "\n",
        "Another aspect that makes finance special is ***the potential impact of AI on financial stability***. The financial system is not impervious to shocks. As\n",
        "experienced in the global financial crisis, problems can propagate through the system rapidly. When AI increasingly manages financial transactions, relatively small incidents could have major consequences. Given the increasing importance\n",
        "of tech giants in providing AI-related services and infrastructure, the concept of systemic importance may also need to be extended to include these companies at some point.\n",
        "\n",
        "Given the inherent interconnectivity of the financial system, ***the rise of AI has a strong international dimension***. An adequate policy response will require close international cooperation and clear minimum standards and guidelines for the sector to adhere to. Regulatory arbitrage in the area of AI could have dangerous consequences and should be prevented where possible.\n",
        "\n",
        "Finance can also be different from other industries as many financial services have ***a very specific data environment***. Because\n",
        "of cultural and legal differences data are, in many cases, only representative for domestic markets. Good examples of this are data pertaining to credit, pensions and mortgages. This may provide a challenge for the development of data-hungry AI systems, especially for relatively small markets as that of the Netherlands. Furthermore, because of ***continuous changes to the financial regulatory framework***, historic data quickly becomes less representative and unusable for training AI-enabled systems.\n",
        "\n",
        "The progress of AI in beating humans in increasingly difficult games should also give us pause. In its design, the stock market is set up as a perfect\n",
        "information game, in which all participants have access to the same information.Banking and insurance can arguably be regarded as imperfect information games: customers have information regarding their financial position and risk profile\n",
        "that is unavailable to banks and insurance companies. AIs like AlphaGo and Liberatus are making huge strides in ***beating humans in both perfect and\n",
        "imperfect information games***. Now that computer performance is progressing to the point where it equals the raw performance capabilities of the human brain, we should consider the possibility that at some point – perhaps sooner than we think – AIs could surpass human agents in trading, banking and insurance as well.\n",
        "\n",
        "Finally, the increasing importance of AI for the financial sector also invites us ***to rethink our traditional supervisory paradigms***. When it comes to AI, strong operational controls could be more important than capital and liquidity buffers. We will increasingly come across business models that are driven primarily by the monetization of data, rather than by product fees and interest margins."
      ],
      "metadata": {
        "id": "4lJCqUkCcFs5"
      }
    },
    {
      "cell_type": "markdown",
      "source": [
        "## Current adoption of AI in Finance\n",
        "\n",
        "AI adoption in the financial sector already is quite widespread, even though we might not always be aware of its presence. \n",
        "\n",
        "**Customer interaction**\n",
        "\n",
        "AI-enabled chatbots that use natural language processing techniques to provide a\n",
        "24/7 first line of customer interaction. Intelligent chatbots can save costs dramatically as they reduce the need for customer service call centres. The Dutch insurance company ***ASR***’s chatbot-based website is a typical example of such an intelligent chatbot. Increasingly, companies opt to integrate\n",
        "their chatbots into existing platforms such as Facebook Messenger or WhatsApp, as well as speech-enabled platforms such as Google Assistant, Apple Siri and Amazon Alexa.\n",
        "\n",
        "**Client oboarding**\n",
        "\n",
        "Nowadays, when we want to open a new bank account, we are likely to encounter AI during the onboarding process. ***Rabobank***, for instance, uses UK-based iProov’s deep-learning driven ‘Face Verifier’ to match a selfie with the face image from the customer’s identity document, including liveness check. Rabobank uses this service in conjunction with ‘ReadID’ to verify the ID document’s authenticity, which also uses AI techniques such as optical character recognition.\n",
        "\n",
        "**Account information services**\n",
        "\n",
        "AI is also commonly used in account information services, such as a former ***ABN AMRO***’s ‘Grip’ app. Grip used machine learning to automatically classify incoming and outgoing transactions and assigned them to categories that are relevant to the app’s user. The app also provided insight into possible saving\n",
        "opportunities as well as more general budgeting services. This app was an instant success and recently it was directly integrated into a ***ABN AMRO*** standard bank app.\n",
        "\n",
        "**Fraud detection**\n",
        "\n",
        "Dutch fintech company ***FRISS*** is an AI-enabled service provider that is used by various Dutch insurance companies for fraud detection in claims\n",
        "management. Their system uses expert knowledge, proprietary data, and external data sources to provide real time risk scores. FRISS also offers AI-driven risk assessment at underwriting and CDD solutions for onboarding new clients.\n",
        "\n",
        "**Transaction monitoring**\n",
        "\n",
        "***BusinessForensics***’ HQ Craft is an example of an AI-driven solution for real-time AML transaction monitoring. This big data processing platform uses\n",
        "data analysis of network transactions, forensic analysis, fraud management and machine learning. This Netherlands-based company provides its services to various Dutch banks and insurance companies.\n",
        "\n",
        "**Car insurance**\n",
        "\n",
        "***Fairzekering*** is a Dutch AI-enabled car insurance product. The insurance company analyses their customers’ driving behaviour based on the data collected by a smart module ‘Chipin’ that is installed in their customers’ cars. Depending on your risk score, you get a 0-35% discount on your monthly rate. Customers also have access to a dashboard that provides them with additional insights in their driving behaviour.\n",
        "\n",
        "**Document analysis**\n",
        "\n",
        "***JPMorgan Chase*** developed an AI-driven Contract Intelligence platform called ‘COiN’ to analyse legal documents and extract important data points and\n",
        "clauses. According to JPMorgan, the system was used to review 12,000 annual commercial credit agreements, which would normally take 360,000 hours to review manually. A number of Dutch banks and insurance companies have indicated that\n",
        "they are also implementing automated solutions to analyse documents.\n",
        "\n",
        "**Customer relationship management**\n",
        "\n",
        "***Salesforce*** is an AI-enabled CRM platform that offers companies a wide variety of tools to support their client interaction. One of their products, ‘Einstein’, that now is a part of Tableau CRM, uses AI to provide lead scoring, activity capture, opportunity insights, and account insights services. Various Dutch financial firms are among Salesforce’s customers.\n",
        "\n",
        "**Portfolio management and risk analytics**\n",
        "\n",
        "***BlackRock***’s ‘Aladdin’ is an example of a financial platform that increasingly applies AI. Aladdin is a widely used operating system that combines AI with sophisticated risk analytics, comprehensive portfolio\n",
        "management, trading execution and investment operations tools on a single platform. Today, Aladdin is used to manage an estimated 22 trillion US dollars\n",
        "in assets globally. BlackRock’s platform is used by numerous Dutch financial institutions, including major banks and pension funds.\n"
      ],
      "metadata": {
        "id": "TBwjvmVQQL65"
      }
    },
    {
      "cell_type": "markdown",
      "source": [
        "## What's next for AI in Finance\n",
        "\n",
        "The latest report of the World Economic Forum (WEF) titled “The Future of AI and Automation in Financial Services” provides an insightful forward-looking perspective. Although it is hard to predict how AI will exactly shape the\n",
        "financial sector landscape in years to come, the examples provided by the WEF report illustrate the wide variety of potential innovations nicely. \n",
        "\n",
        "**Deposits and lending**\n",
        "\n",
        "The following use cases aim to solve the core customer need of frictionless access to funding and secure movement of data, while also creating a compelling business case for banks of the future:\n",
        "\n",
        "* ***Just-in-time lending***: Tailored small to mid-sized business lending products and advice provided just when the customer's funding needs arise; offered by institutions that factor multiple data sources into a continuous risk analysis and pricing engine.\n",
        "\n",
        "* ***Trusted data steward***: A financial institution (or syndicate of institutions) serves as a central consent management platform that links sources of customer identity attributes (i.e. data) to users of that data (e.g. service providers) and uses Al to scan and \"police\" the third parties misusing client data.\n",
        "\n",
        "**Investment management**\n",
        "\n",
        "The following use cases will help investment managers provide more tailored financial planning and outcomes to customers (both consumers and businesses), while also generating new sources of alpha:\n",
        "\n",
        "* ***Outcomes-based investment products***: Customers are offered the opportunity to purchase investment products that guarantee specific life experiences or outcomes; these products are structured as tokenized contracts that could subsequently be traded on a secondary market.\n",
        "\n",
        "* ***Verifiable impact investing***: A service that provides SMEs the ability to issue investment tokens, directly linked to verified financial and operational data, in order to establish credibility and raise funding from investors who gain access to new and trusted sources of alpha.\n",
        "\n",
        "**Payments**\n",
        "\n",
        "As payments globally move to more real-time, frictionless rails, the next evolution of payments will see increased automation (which benefits the institutions involved) and an enhanced, data-rich purchasing experience (desired by customers)\n",
        "\n",
        "* ***Machine-to-machine (M2M) payment protocol***: A payment network, or consortium of payment networks, banks, wallet providers and other financial institutions, develops a protocol through which asynchronous M2M payments are decisioned, authenticated and transmitted/received on behalf of consumers.\n",
        "\n",
        "* ***Augmented purchases***: A frictionless shopping experience (delivered through AR) providing contextual access to product data and seamless transaction execution, whether the customer is browsing the product virtually or physically\n",
        "\n",
        "**Insurance**\n",
        "\n",
        "Customers are demanding more transparent, digital, and personalized insurance experiences; the following two use cases address these customer needs and are feasible given technology development\n",
        "\n",
        "* ***Dynamic life + health insurance***: An integrated life and health product that proactively serves the customer by collecting real-time data as they engage in everyday activities; this improves the insurance company's risk analysis, allowing for dynamically priced products and personalized customer rewards.\n",
        "\n",
        "* ***Connected post-claims experience***: A post-claims experience created through a connected ecosystem of product/service providers that creates a differentiated claim-handling process to drive customer loyalty and increase back-office efficiency.\n",
        "\n",
        "**Capital markets**\n",
        "\n",
        "The following use cases support capital markets players in their efforts to adopt more data-driven approaches to investing and client service, as well as to improve optimization across different fundamental calculations:\n",
        "\n",
        "* ***Cross bank collateral optimization***: The ability to rapidly allocate collateral in the most efficient way across the entire institution to minimize cost of delivery and transformation costs, using quantum computing and Al.\n",
        "\n",
        "* ***Quantum trade optimization***: Applying quantum computing to supercharge the optimization of trading strategies and asset allocation, minimizing the cost and market impact of trading.\n",
        "\n",
        "* ***Data-linked green bonds***: Green bonus that fund sustainable projects linked to trusted sources of data that help monitor sustainability outcomes and can trigger covenant events.\n",
        "\n",
        "**Market infrastructure**\n",
        "\n",
        "The following use cases were prioritized as significant infrastructural changes expected over the next decade, the use cases would help solve common points of inefficiency for a large number of industry participants:\n",
        "\n",
        "* ***Global fund transfer network***: A DLT fund transfer network that optimizes and improves the speed and transparency of the flow of high-value fund transfers across jurisdictions.\n",
        "\n",
        "* ***Global corporate actions ledger***: A single, permissioned ledger where data on mandatory and voluntary corporate actions are published in machine-readable formats to drive consistency and reduce intermediation.\n",
        "\n",
        "* ***Distributed KYC/AML utility***: A platform that simplifies customer onboarding and continuously monitors transactions, using the combined data and analytical capabilities of all institutions to reduce duplication of effort\n",
        "\n",
        "It is hard to predict whether and how these global trends described by the WEF and other reports will materialise in Europe and in the Netherlands. To a large extent, this will also depend on future regulatory responses. \n",
        "\n",
        "The Payment Service Directive (PSD2), for instance, is expected to enable a number of AI-driven innovations, most notably in deposits, lending and payments. \n",
        "\n",
        "The General Data Protection Regulation (GDPR), on the other hand, sets explicit\n",
        "and implicit constraints on potential innovations by regulating the manner in which companies may use personal data in their product and service offerings. \n",
        "\n",
        "Within Europe, the Dutch financial market seems to be well-suited to become a front-runner in the adoption of AI. Amsterdam and Eindhoven are positioning themselves as upcoming AI hubs and ING has launched a new AI Fintech Lab in\n",
        "collaboration with Delft University of Technology in 2020."
      ],
      "metadata": {
        "id": "FDHhFfXsRmVt"
      }
    },
    {
      "cell_type": "markdown",
      "source": [
        "# AI in Finance: Use Case (50 min)\n"
      ],
      "metadata": {
        "id": "HD1T7aFGapTG"
      }
    },
    {
      "cell_type": "markdown",
      "source": [
        "## Use case\n",
        "\n",
        "Congrats. This month you joined a huge financial services provider. It is your first serious job and you are excited to start your journey in the innovation department of this company. You just learned that this department is responible for all type of innovations: internal and customer facing ones. \n",
        "\n",
        "And... your first task is to investigate a potential value and a competitive advantage that a ChatGPT or something similar can bring to your company. You have a couple of weeks for the research and your manager expects to see a demo and explanation of potential value and associated risks. \n",
        "\n",
        "In addition to that, if this demo is a success, you will officialy join a small inovation team to work on this use case further.\n",
        "\n",
        "\n"
      ],
      "metadata": {
        "id": "DTcYqeLw-Oyf"
      }
    },
    {
      "cell_type": "markdown",
      "source": [
        "## AI Chatbot: Idea\n",
        "\n",
        "According to the Wikipedia, **chatbot** is a software application that aims to mimic human conversation through text or voice interactions, typically online. Modern chatbots are AI systems that are capable of maintaining a conversation with a user in a natural language and simulating the way a human would behave as a conversational partner. \n",
        "\n",
        "As a general rule, we can distinguish between ***rule-based*** chatbots and ***AI*** chatbots. \n",
        "\n",
        "***Rule-based chatbot*** works through pre-configurued conversation path and able to understand specific keywords. The conversation flow may stop if a user does not follow the instructions.\n",
        "\n",
        "***AI chatbot*** works by leveraging the power of natural language processing and develops itself over time. A user can write questions freely.\n",
        "\n",
        "After learning more about the difference between rule-based and AI chatbots, you decided to give it a try and build a simple AI chatbot powered by [ChatGPT](https://openai.com/product/chatgpt)."
      ],
      "metadata": {
        "id": "fs4HSUlgn4wA"
      }
    },
    {
      "cell_type": "markdown",
      "source": [
        "## AI Chatbot: Setup and Exploration"
      ],
      "metadata": {
        "id": "yqk-XcHWnOWC"
      }
    },
    {
      "cell_type": "markdown",
      "source": [
        "### Setup\n",
        "\n",
        "1. Sign up for an OpenAI account\n",
        "\n",
        "To use the AI models that power ChatGPT you need to sign up for an OpenAI account. Follow [this link](https://platform.openai.com/signup/) to register. NB: The registration process requires a real email address and a real mobile telephone number.\n",
        "\n"
      ],
      "metadata": {
        "id": "ebU8m64wUf3h"
      }
    },
    {
      "cell_type": "markdown",
      "source": [
        "2. Create an API key \n",
        "\n",
        "Once you have registered and signed up, the next step is to create an API key that will allow you to interact with ChatGPT from this Google Colab notebook. To do this, click on the icon in the right upper corner and navigate to the “View API keys” section or use [the following link](https://platform.openai.com/account/api-keys). Being there, click on \"Create new secret key\". \n",
        "\n",
        "Open a Notepad on Windows, a Texteditor on Mac (choose \"Format\" - \"Make plain text\"), a Vim on Linux. Add there 3 lines of text, while adding, please, replace \"copy your API key there\" with the API key you just generated.\n",
        "\n",
        "\n",
        "```\n",
        "TEST_SECRET=Hello\n",
        "TEST_SECRET2=Hello again\n",
        "OPENAI_API_KEY=your API key there\n",
        "```\n",
        "Save the file as .env\n",
        "\n",
        "Upload this file to your Google Drive My Drive directory"
      ],
      "metadata": {
        "id": "F4pgKty5t2tZ"
      }
    },
    {
      "cell_type": "markdown",
      "source": [
        "3. Connect from this Google collab notebook to the ChatGPT\n",
        "\n",
        "We start with the installations of the neccessary Python libraries and continue with their import.\n",
        "\n",
        " ***openai*** will be used to interact with the ChatGPT\n",
        " \n",
        " ***python-dotenv*** will be used to read the secrets from your .env file located on your personal Google Drive."
      ],
      "metadata": {
        "id": "3VG_nzDNt5H7"
      }
    },
    {
      "cell_type": "code",
      "source": [
        "!pip install openai"
      ],
      "metadata": {
        "colab": {
          "base_uri": "https://localhost:8080/"
        },
        "id": "SQdII8Y6JIF0",
        "outputId": "b52e4041-2837-4688-aae4-2e82c18ce85a"
      },
      "execution_count": 1,
      "outputs": [
        {
          "output_type": "stream",
          "name": "stdout",
          "text": [
            "Looking in indexes: https://pypi.org/simple, https://us-python.pkg.dev/colab-wheels/public/simple/\n",
            "Collecting openai\n",
            "  Downloading openai-0.27.7-py3-none-any.whl (71 kB)\n",
            "\u001b[2K     \u001b[90m━━━━━━━━━━━━━━━━━━━━━━━━━━━━━━━━━━━━━━━━\u001b[0m \u001b[32m72.0/72.0 kB\u001b[0m \u001b[31m2.2 MB/s\u001b[0m eta \u001b[36m0:00:00\u001b[0m\n",
            "\u001b[?25hRequirement already satisfied: requests>=2.20 in /usr/local/lib/python3.10/dist-packages (from openai) (2.27.1)\n",
            "Requirement already satisfied: tqdm in /usr/local/lib/python3.10/dist-packages (from openai) (4.65.0)\n",
            "Collecting aiohttp (from openai)\n",
            "  Downloading aiohttp-3.8.4-cp310-cp310-manylinux_2_17_x86_64.manylinux2014_x86_64.whl (1.0 MB)\n",
            "\u001b[2K     \u001b[90m━━━━━━━━━━━━━━━━━━━━━━━━━━━━━━━━━━━━━━━━\u001b[0m \u001b[32m1.0/1.0 MB\u001b[0m \u001b[31m18.7 MB/s\u001b[0m eta \u001b[36m0:00:00\u001b[0m\n",
            "\u001b[?25hRequirement already satisfied: urllib3<1.27,>=1.21.1 in /usr/local/lib/python3.10/dist-packages (from requests>=2.20->openai) (1.26.15)\n",
            "Requirement already satisfied: certifi>=2017.4.17 in /usr/local/lib/python3.10/dist-packages (from requests>=2.20->openai) (2022.12.7)\n",
            "Requirement already satisfied: charset-normalizer~=2.0.0 in /usr/local/lib/python3.10/dist-packages (from requests>=2.20->openai) (2.0.12)\n",
            "Requirement already satisfied: idna<4,>=2.5 in /usr/local/lib/python3.10/dist-packages (from requests>=2.20->openai) (3.4)\n",
            "Requirement already satisfied: attrs>=17.3.0 in /usr/local/lib/python3.10/dist-packages (from aiohttp->openai) (23.1.0)\n",
            "Collecting multidict<7.0,>=4.5 (from aiohttp->openai)\n",
            "  Downloading multidict-6.0.4-cp310-cp310-manylinux_2_17_x86_64.manylinux2014_x86_64.whl (114 kB)\n",
            "\u001b[2K     \u001b[90m━━━━━━━━━━━━━━━━━━━━━━━━━━━━━━━━━━━━━━━\u001b[0m \u001b[32m114.5/114.5 kB\u001b[0m \u001b[31m2.5 MB/s\u001b[0m eta \u001b[36m0:00:00\u001b[0m\n",
            "\u001b[?25hCollecting async-timeout<5.0,>=4.0.0a3 (from aiohttp->openai)\n",
            "  Downloading async_timeout-4.0.2-py3-none-any.whl (5.8 kB)\n",
            "Collecting yarl<2.0,>=1.0 (from aiohttp->openai)\n",
            "  Downloading yarl-1.9.2-cp310-cp310-manylinux_2_17_x86_64.manylinux2014_x86_64.whl (268 kB)\n",
            "\u001b[2K     \u001b[90m━━━━━━━━━━━━━━━━━━━━━━━━━━━━━━━━━━━━━━━\u001b[0m \u001b[32m268.8/268.8 kB\u001b[0m \u001b[31m4.5 MB/s\u001b[0m eta \u001b[36m0:00:00\u001b[0m\n",
            "\u001b[?25hCollecting frozenlist>=1.1.1 (from aiohttp->openai)\n",
            "  Downloading frozenlist-1.3.3-cp310-cp310-manylinux_2_5_x86_64.manylinux1_x86_64.manylinux_2_17_x86_64.manylinux2014_x86_64.whl (149 kB)\n",
            "\u001b[2K     \u001b[90m━━━━━━━━━━━━━━━━━━━━━━━━━━━━━━━━━━━━━━━\u001b[0m \u001b[32m149.6/149.6 kB\u001b[0m \u001b[31m6.2 MB/s\u001b[0m eta \u001b[36m0:00:00\u001b[0m\n",
            "\u001b[?25hCollecting aiosignal>=1.1.2 (from aiohttp->openai)\n",
            "  Downloading aiosignal-1.3.1-py3-none-any.whl (7.6 kB)\n",
            "Installing collected packages: multidict, frozenlist, async-timeout, yarl, aiosignal, aiohttp, openai\n",
            "Successfully installed aiohttp-3.8.4 aiosignal-1.3.1 async-timeout-4.0.2 frozenlist-1.3.3 multidict-6.0.4 openai-0.27.7 yarl-1.9.2\n"
          ]
        }
      ]
    },
    {
      "cell_type": "code",
      "source": [
        "!pip install python-dotenv"
      ],
      "metadata": {
        "colab": {
          "base_uri": "https://localhost:8080/"
        },
        "id": "8ynalmH6Jiiq",
        "outputId": "6ec5be98-ffa4-4b68-8d04-f6e13d9b4c4d"
      },
      "execution_count": 2,
      "outputs": [
        {
          "output_type": "stream",
          "name": "stdout",
          "text": [
            "Looking in indexes: https://pypi.org/simple, https://us-python.pkg.dev/colab-wheels/public/simple/\n",
            "Collecting python-dotenv\n",
            "  Downloading python_dotenv-1.0.0-py3-none-any.whl (19 kB)\n",
            "Installing collected packages: python-dotenv\n",
            "Successfully installed python-dotenv-1.0.0\n"
          ]
        }
      ]
    },
    {
      "cell_type": "code",
      "source": [
        "import openai\n",
        "from dotenv import dotenv_values"
      ],
      "metadata": {
        "id": "E_ryO7jEJScQ"
      },
      "execution_count": 3,
      "outputs": []
    },
    {
      "cell_type": "markdown",
      "source": [
        "The next step is to mount your Google Drive to this notebook and read all secrets from your .env file, located on your personal Google Drive"
      ],
      "metadata": {
        "id": "PBMkXaCGQI53"
      }
    },
    {
      "cell_type": "code",
      "source": [
        "from google.colab import drive\n",
        "drive.mount('/content/drive', force_remount=True)"
      ],
      "metadata": {
        "colab": {
          "base_uri": "https://localhost:8080/"
        },
        "id": "wpmXsyttFpuu",
        "outputId": "14da2663-aa98-4ad1-b707-1132787d7513"
      },
      "execution_count": 4,
      "outputs": [
        {
          "output_type": "stream",
          "name": "stdout",
          "text": [
            "Mounted at /content/drive\n"
          ]
        }
      ]
    },
    {
      "cell_type": "code",
      "source": [
        "config = dotenv_values('/content/drive/My Drive/.env')"
      ],
      "metadata": {
        "id": "WhzcL0faJ3P9"
      },
      "execution_count": 5,
      "outputs": []
    },
    {
      "cell_type": "markdown",
      "source": [
        "Now let's check whether we are capable of reading the first two secrets associated with TEST and TEST2. \n",
        "\n",
        "To prevent an exposure of your secret API key, please, do not print 'OPENAI_API_KEY' value as you do with TEST and TEST2"
      ],
      "metadata": {
        "id": "Y6elpfXZQo0x"
      }
    },
    {
      "cell_type": "code",
      "source": [
        "config['TEST_SECRET']"
      ],
      "metadata": {
        "colab": {
          "base_uri": "https://localhost:8080/",
          "height": 35
        },
        "id": "K07Z3PkHMMkS",
        "outputId": "f1db3e77-4a08-4319-f44e-da93206722da"
      },
      "execution_count": 6,
      "outputs": [
        {
          "output_type": "execute_result",
          "data": {
            "text/plain": [
              "'Hello'"
            ],
            "application/vnd.google.colaboratory.intrinsic+json": {
              "type": "string"
            }
          },
          "metadata": {},
          "execution_count": 6
        }
      ]
    },
    {
      "cell_type": "code",
      "source": [
        "config['TEST_SECRET2']"
      ],
      "metadata": {
        "colab": {
          "base_uri": "https://localhost:8080/",
          "height": 35
        },
        "id": "HPNgu1hNRzNM",
        "outputId": "ab3cdfcd-aa35-47f6-b1d0-1f5dc339dfe6"
      },
      "execution_count": 7,
      "outputs": [
        {
          "output_type": "execute_result",
          "data": {
            "text/plain": [
              "'Hello again'"
            ],
            "application/vnd.google.colaboratory.intrinsic+json": {
              "type": "string"
            }
          },
          "metadata": {},
          "execution_count": 7
        }
      ]
    },
    {
      "cell_type": "markdown",
      "source": [
        "The next step is to assign your secret API key to a dedicated OpenAI variable."
      ],
      "metadata": {
        "id": "RvrmrvUDR3Os"
      }
    },
    {
      "cell_type": "code",
      "source": [
        "openai.api_key = config['OPENAI_API_KEY']"
      ],
      "metadata": {
        "id": "8XFD64uCNWRG"
      },
      "execution_count": 8,
      "outputs": []
    },
    {
      "cell_type": "markdown",
      "source": [
        "At last, we will connect directly to the ChatGPT. To make it easier let's define a Python function, that returns a direct answer from the ChatGPT."
      ],
      "metadata": {
        "id": "JW3CVv0SWlsH"
      }
    },
    {
      "cell_type": "code",
      "source": [
        "def get_answer(prompt):\n",
        "    response = openai.ChatCompletion.create(\n",
        "        model=\"gpt-3.5-turbo\",\n",
        "        messages=[{\"role\": \"user\", \"content\": prompt}]\n",
        "    )\n",
        "    return response.choices[0].message.content"
      ],
      "metadata": {
        "id": "tRkJ9WKZWlYu"
      },
      "execution_count": 9,
      "outputs": []
    },
    {
      "cell_type": "markdown",
      "source": [
        "Fingers crossed, let's try it out."
      ],
      "metadata": {
        "id": "Ox03DmJAeStH"
      }
    },
    {
      "cell_type": "code",
      "source": [
        "get_answer(\"Is it a good idea to study Finance in 2023?\")"
      ],
      "metadata": {
        "colab": {
          "base_uri": "https://localhost:8080/",
          "height": 89
        },
        "id": "hwAGzGU-eRfR",
        "outputId": "0c243c06-afa8-4379-ca28-bf1ff239538c"
      },
      "execution_count": 10,
      "outputs": [
        {
          "output_type": "execute_result",
          "data": {
            "text/plain": [
              "\"As an AI language model, I don't have the ability to predict the future or offer personal opinions. However, studying finance is always a good idea as finance is a crucial aspect of both our personal and professional lives. Understanding finance can help individuals make informed decisions regarding investments, budgeting, and managing debts. It can also lead to careers in fields like banking, accounting, financial planning, and more. In short, the relevance of finance is not likely to diminish in the future and it can be a worthwhile area of study for those interested in the subject.\""
            ],
            "application/vnd.google.colaboratory.intrinsic+json": {
              "type": "string"
            }
          },
          "metadata": {},
          "execution_count": 10
        }
      ]
    },
    {
      "cell_type": "markdown",
      "source": [
        "Congrats! You've just successfully requested the API key, and with this key you connected to the ChatGPT as a real developer ✅ 🎉"
      ],
      "metadata": {
        "id": "BERAZN0ViB1r"
      }
    },
    {
      "cell_type": "markdown",
      "source": [
        "### Possibilities exploration"
      ],
      "metadata": {
        "id": "VKkEK8BkU4JE"
      }
    },
    {
      "cell_type": "markdown",
      "source": [
        "OpenAI has trained cutting-edge language models that are very good at understanding and generating text. Theri API provides access to these models and can be used to solve virtually any task that involves processing language, such as:\n",
        "* Content generation\n",
        "* Summarization\n",
        "* Classification, categorization, and sentiment analysis\n",
        "* Data extraction\n",
        "* Translation\n",
        "* and more\n",
        "\n",
        "The completions endpoint is the core of OpenAI API and provides a simple interface that’s extremely flexible and powerful. You input some text as a prompt, and the API will return a text completion that attempts to match whatever instructions or context you gave it.\n",
        "\n",
        "\n",
        "```\n",
        "Prompt\n",
        "Write a tagline for an ice cream shop.\n",
        "```\n",
        "\n",
        "\n",
        "```\n",
        "Completion\n",
        "We serve up smiles with every scoop!\n",
        "```\n",
        "You can think of this as a very advanced autocomplete — the model processes your text prompt and tries to predict what’s most likely to come next."
      ],
      "metadata": {
        "id": "Q-OfreS0oyd1"
      }
    },
    {
      "cell_type": "markdown",
      "source": [
        "**Summarization and translation**\n",
        "\n",
        "Let's try to generate a summary of an insurance product in English from an insurance description in Dutch."
      ],
      "metadata": {
        "id": "GGXdzJbIlJYE"
      }
    },
    {
      "cell_type": "code",
      "source": [
        "insurance_description = \"\"\"\n",
        "Reisverzekering wintersport\n",
        "Op wintersportvakantie met vrienden of familie? Een heerlijk vooruitzicht. \n",
        "Natuurlijk is het daarbij van belang om een goede reisverzekering af te sluiten. \n",
        "Want er kan altijd iets misgaan. Je spullen kunnen bijvoorbeeld kwijt raken of schade oplopen. \n",
        "Of je loopt een blessure op waarvan niet alle medische kosten gedekt worden door je zorgverzekering. \n",
        "Dan is het prettig om terug te kunnen vallen op een goede reisverzekering voor je wintersport. \n",
        "De wintersportdekking van ING zorgt ervoor dat je zorgeloos de pistes kunt trotseren.\n",
        "\n",
        "Wat is verzekerd met de wintersportdekking?\n",
        "Je wintersportuitrusting tot maximaal € 5.000\n",
        "Verlies van je skipas en huur van vervangende ski's\n",
        "Hulpverlening zoals vervoer van de piste en een gipsvlucht\n",
        "Medische kosten en een ongevallenuitkering\n",
        "De kosten van een gehuurde wintersportuitrusting, skilessen en skipassen (als je door een verzekerde gebeurtenis hier geen gebruik van kunt maken)\n",
        "Een wintersportvakantie van maximaal 21 dagen aaneengesloten\n",
        "\"\"\""
      ],
      "metadata": {
        "id": "TSSps3cglJ1X"
      },
      "execution_count": 11,
      "outputs": []
    },
    {
      "cell_type": "code",
      "source": [
        "prompt = f\"\"\"\n",
        "Perform the following actions:\n",
        "1 - Summarize the description of the insurance product below, delimited by triple backticks, in at most 30 words.\n",
        "2 - Translate the summary into english.\n",
        "\n",
        "Summary: ```{insurance_description}```\n",
        "\"\"\"\n",
        "answer = get_answer(prompt)\n",
        "print(answer)"
      ],
      "metadata": {
        "colab": {
          "base_uri": "https://localhost:8080/"
        },
        "id": "9yelt8EUl1dG",
        "outputId": "baba75aa-1c09-4705-e3cc-4d4ae17ca9f8"
      },
      "execution_count": 16,
      "outputs": [
        {
          "output_type": "stream",
          "name": "stdout",
          "text": [
            "Summary: A winter sport insurance policy that covers loss or damage of equipment, medical expenses, rescue services, and rental costs due to unforeseen events, allowing for carefree skiing.\n",
            "\n",
            "Translation: ING offers a winter sport insurance policy that covers loss or damage of equipment, medical expenses, rescue services, and rental costs for up to 21 consecutive days. It allows for carefree skiing during the winter holidays.\n"
          ]
        }
      ]
    },
    {
      "cell_type": "markdown",
      "source": [
        "**Classification, categorization and sentiment analysis**\n",
        "\n",
        "Let's try to analyze a bank review and understand its sentiment, emotions of the writer, a type of product/service used, a bank name. "
      ],
      "metadata": {
        "id": "OGUysbTeqdO_"
      }
    },
    {
      "cell_type": "code",
      "source": [
        "bank_review = \"\"\"\n",
        "Afschaffen van de wearables zoals horloge, sleutelhanger , ring etc. werd eenzijdig gedaan.\n",
        "Bij de aanschaf was een pilot of \"de klant\" er naar tevredenheid gebruik van zou maken.\n",
        "Volgens ABNAMRO werd er te weinig gebruik van gemaakt en deze service gestopt.\n",
        "Het opgedrongen alternatief was gebruik maken van de Iphone of Smartphone, of de normale bankpas.\n",
        "Het gemak met volle handen pinnen met een ring werd over het hoofd gezien. ABNAMRO heeft liever dat je telefoon of pinpas uit je handen wordt gerukt.\n",
        "ABNAMRO : de bank is er voor de klanten en niet andersom!!!\n",
        "\"\"\""
      ],
      "metadata": {
        "id": "aNcnqUzhqdrR"
      },
      "execution_count": 18,
      "outputs": []
    },
    {
      "cell_type": "code",
      "source": [
        "prompt = f\"\"\"\n",
        "Identify the following items from the review text: \n",
        "- Sentiment (positive or negative)\n",
        "- Is the reviewer expressing anger? (true or false)\n",
        "- Product or service used by reviewer\n",
        "- Bank that provide the product or the service\n",
        "\n",
        "The review is delimited with triple backticks. \n",
        "Format your response as a dictionary with \"Sentiment\", \"Anger\", \"Product\" and \"Bank\" as the keys.\n",
        "If the information isn't present, use \"unknown\" as the value.\n",
        "Make your response as short as possible.\n",
        "Format the Anger value as a boolean.\n",
        "\n",
        "Review text: '''{bank_review}'''\n",
        "\"\"\"\n",
        "answer = get_answer(prompt)\n",
        "print(answer)"
      ],
      "metadata": {
        "colab": {
          "base_uri": "https://localhost:8080/"
        },
        "id": "AP5cXTTLr6F1",
        "outputId": "4f9a24d9-ff44-4c84-dee7-01b38e828aab"
      },
      "execution_count": 20,
      "outputs": [
        {
          "output_type": "stream",
          "name": "stdout",
          "text": [
            "{\n",
            "\"Sentiment\": \"negative\",\n",
            "\"Anger\": true,\n",
            "\"Product\": \"wearables (such as watch, keychain, ring)\",\n",
            "\"Bank\": \"ABNAMRO\"\n",
            "}\n"
          ]
        }
      ]
    },
    {
      "cell_type": "code",
      "source": [
        "another_bank_review = \"\"\"\n",
        "Believe it or not. Bij de ABN Amro vestiging in Maastricht heb ik de aangevraagde maar te laat geleverde rekening kunnen annuleren. \n",
        "Na enig verzet heeft de medewerster van het kantoor toch een manier gevonden om de ABN AMRO bureaucratische machine \"on hold\" te krijgen. \n",
        "Toch wel fijn als je op een bepaald moment kansloos bent tegen deze machine en je in een \"face to face\" contact tot wederzijdse \n",
        "tevredenheid een oplossing kunt creëren. \n",
        "\"Remember the good old times\". Chapeaux voor de medewerkster van kantoor Centre Ceramique in Maastricht.\n",
        "\"\"\""
      ],
      "metadata": {
        "id": "PLGGVhVTsxcV"
      },
      "execution_count": 21,
      "outputs": []
    },
    {
      "cell_type": "code",
      "source": [
        "prompt = f\"\"\"\n",
        "Identify the following items from the review text: \n",
        "- Sentiment (positive or negative)\n",
        "- Is the reviewer expressing anger? (true or false)\n",
        "- Product or service used by reviewer\n",
        "- Bank that provide the product or the service\n",
        "\n",
        "The review is delimited with triple backticks. \n",
        "Format your response as a dictionary with \"Sentiment\", \"Anger\", \"Product\" and \"Bank\" as the keys.\n",
        "If the information isn't present, use \"unknown\" as the value.\n",
        "Make your response as short as possible.\n",
        "Format the Anger value as a boolean.\n",
        "\n",
        "Review text: '''{another_bank_review}'''\n",
        "\"\"\"\n",
        "answer = get_answer(prompt)\n",
        "print(answer)"
      ],
      "metadata": {
        "colab": {
          "base_uri": "https://localhost:8080/"
        },
        "id": "8pTPEQ0UsyO2",
        "outputId": "68bd1ee1-e1b7-4ad7-f624-1cad8784fa8e"
      },
      "execution_count": 22,
      "outputs": [
        {
          "output_type": "stream",
          "name": "stdout",
          "text": [
            "{\"Sentiment\": \"positive\", \"Anger\": False, \"Product\": \"rekening\", \"Bank\": \"ABN Amro\"}\n"
          ]
        }
      ]
    },
    {
      "cell_type": "markdown",
      "source": [
        "**Content generation**\n",
        "\n",
        "Let's generate customer service emails tailored to each customer review. "
      ],
      "metadata": {
        "id": "N2cJQCjxuMt7"
      }
    },
    {
      "cell_type": "code",
      "source": [
        "prompt = f\"\"\"\n",
        "You are a customer service AI assistant.\n",
        "Your task is to send an email reply to a valued customer.\n",
        "Given the customer email delimited by ```, generate a reply to thank the customer for their review.\n",
        "If the sentiment is positive or neutral, thank them for their review.\n",
        "If the sentiment is negative, apologize and suggest that they can reach out to customer service. \n",
        "Make sure to use specific details from the review.\n",
        "Write in a concise and professional tone.\n",
        "Sign the email as `AI customer agent`.\n",
        "Customer review: ```{bank_review}```\n",
        "\"\"\"\n",
        "answer = get_answer(prompt)\n",
        "print(answer)"
      ],
      "metadata": {
        "colab": {
          "base_uri": "https://localhost:8080/"
        },
        "id": "aUQFwSg-ueHV",
        "outputId": "11a2b43e-6268-4be4-dffa-91791358e435"
      },
      "execution_count": 24,
      "outputs": [
        {
          "output_type": "stream",
          "name": "stdout",
          "text": [
            "Dear Valued Customer,\n",
            "\n",
            "Thank you for sharing your thoughts on our wearables service. We appreciate your feedback and take it seriously as we strive to improve our customer experience.\n",
            "\n",
            "We apologize for any inconvenience caused by our decision to discontinue the wearables service. However, we assure you that this decision was made after careful consideration of the usage rates and the resources required to maintain the service.\n",
            "\n",
            "We understand that you found the wearables service convenient, especially in situations where you have your hands full. We appreciate your loyalty to ABNAMRO and we would like to remind you that we value your business.\n",
            "\n",
            "Please do not hesitate to contact our customer service team if you have any further questions or feedback. We are here to help and would be happy to assist you.\n",
            "\n",
            "Thank you again for your review and for choosing ABNAMRO.\n",
            "\n",
            "Best regards,\n",
            "\n",
            "AI customer agent.\n"
          ]
        }
      ]
    },
    {
      "cell_type": "code",
      "source": [
        "prompt = f\"\"\"\n",
        "You are a customer service AI assistant.\n",
        "Your task is to send an email reply to a valued customer.\n",
        "Given the customer email delimited by ```, generate a reply to thank the customer for their review.\n",
        "If the sentiment is positive or neutral, thank them for their review.\n",
        "If the sentiment is negative, apologize and suggest that they can reach out to customer service. \n",
        "Make sure to use specific details from the review.\n",
        "Write in a concise and professional tone.\n",
        "Sign the email as `AI customer agent`.\n",
        "Customer review: ```{another_bank_review}```\n",
        "\"\"\"\n",
        "answer = get_answer(prompt)\n",
        "print(answer)"
      ],
      "metadata": {
        "colab": {
          "base_uri": "https://localhost:8080/"
        },
        "id": "Z7vz3vKxve0g",
        "outputId": "c708f62d-d2a4-4c6c-d828-b72b32b6e26e"
      },
      "execution_count": 25,
      "outputs": [
        {
          "output_type": "stream",
          "name": "stdout",
          "text": [
            "Dear valued customer,\n",
            "\n",
            "Thank you for taking the time to leave a review about your recent experience at the ABN Amro branch in Maastricht. We are pleased to hear that our employee was able to assist you in cancelling your account and finding a solution that was mutually satisfactory.\n",
            "\n",
            "Your kind words and recognition of our employee's efforts mean a great deal to us, and we will be sure to pass on your commendation to our team.\n",
            "\n",
            "We apologize for any inconvenience that the delayed delivery may have caused and we appreciate you bringing this to our attention. If you have any further concerns, please don't hesitate to reach out to our customer service team. They will be happy to assist you.\n",
            "\n",
            "Thank you again for your high praise and for choosing ABN Amro. We look forward to serving you again in the future.\n",
            "\n",
            "Best regards,\n",
            "\n",
            "AI customer agent\n"
          ]
        }
      ]
    },
    {
      "cell_type": "markdown",
      "source": [
        "Congrats! You've just successfully explored a small part of various possibilities offered by the ChatGPT. And you achieved this by using a powerful combo of Python and Promt engineering ✅ 🎉"
      ],
      "metadata": {
        "id": "C46fiBgDv-3b"
      }
    },
    {
      "cell_type": "markdown",
      "source": [
        "## AI Chatbot: Demo"
      ],
      "metadata": {
        "id": "6usutbRan_4_"
      }
    },
    {
      "cell_type": "markdown",
      "source": [
        "After playing around with the ChatGPT you and your excited colleagues came to the following conclusions. \n",
        "\n",
        "The highest potential value in a short term could be achieved by replacing the old rule based chatbot, serving a customer support team and getting a lot of complaints, with an AI chatbot powered by the ChatGPT.\n",
        "\n",
        "The highest potential value in a long term - by creating an internal search for the employees, that is capable of scanning millions of internal documents, categorizing them, translating them,extracting needed information and summarizing them. \n",
        "\n",
        "For the requested demo you decided to focus on the AI chatbot."
      ],
      "metadata": {
        "id": "LV3524osU-PU"
      }
    },
    {
      "cell_type": "markdown",
      "source": [
        "Let's explore the best way to utilize the chat format to have extended personalized conversations.\n",
        "\n",
        "So far we were working with something resembling a \"Q&A\" format. However, these conversations do not have any \"memory\" of the previous ones. That's why we need to create 2 new Python helper function, that will help us to accumulate the prompts and answers, and keep track of our conversations. In addition we will use a Python library called ***panel***. It will help us to build a dashboard to visualize our chatbot conversation."
      ],
      "metadata": {
        "id": "vwK-w4Jx5jsu"
      }
    },
    {
      "cell_type": "code",
      "source": [
        "import panel as pn\n",
        "pn.extension(theme='dark')\n",
        "panels = []"
      ],
      "metadata": {
        "colab": {
          "base_uri": "https://localhost:8080/",
          "height": 17
        },
        "id": "r0e1l9BX8O-5",
        "outputId": "89808da2-36b7-43be-d6a4-b6c1d655dcbb"
      },
      "execution_count": 42,
      "outputs": [
        {
          "output_type": "display_data",
          "data": {
            "application/javascript": [
              "(function(root) {\n",
              "  function now() {\n",
              "    return new Date();\n",
              "  }\n",
              "\n",
              "  var force = true;\n",
              "\n",
              "  if (typeof root._bokeh_onload_callbacks === \"undefined\" || force === true) {\n",
              "    root._bokeh_onload_callbacks = [];\n",
              "    root._bokeh_is_loading = undefined;\n",
              "  }\n",
              "\n",
              "  if (typeof (root._bokeh_timeout) === \"undefined\" || force === true) {\n",
              "    root._bokeh_timeout = Date.now() + 5000;\n",
              "    root._bokeh_failed_load = false;\n",
              "  }\n",
              "\n",
              "  function run_callbacks() {\n",
              "    try {\n",
              "      root._bokeh_onload_callbacks.forEach(function(callback) {\n",
              "        if (callback != null)\n",
              "          callback();\n",
              "      });\n",
              "    } finally {\n",
              "      delete root._bokeh_onload_callbacks\n",
              "    }\n",
              "    console.debug(\"Bokeh: all callbacks have finished\");\n",
              "  }\n",
              "\n",
              "  function load_libs(css_urls, js_urls, js_modules, callback) {\n",
              "    if (css_urls == null) css_urls = [];\n",
              "    if (js_urls == null) js_urls = [];\n",
              "    if (js_modules == null) js_modules = [];\n",
              "\n",
              "    root._bokeh_onload_callbacks.push(callback);\n",
              "    if (root._bokeh_is_loading > 0) {\n",
              "      console.debug(\"Bokeh: BokehJS is being loaded, scheduling callback at\", now());\n",
              "      return null;\n",
              "    }\n",
              "    if (js_urls.length === 0 && js_modules.length === 0) {\n",
              "      run_callbacks();\n",
              "      return null;\n",
              "    }\n",
              "    console.debug(\"Bokeh: BokehJS not loaded, scheduling load and callback at\", now());\n",
              "\n",
              "    function on_load() {\n",
              "      root._bokeh_is_loading--;\n",
              "      if (root._bokeh_is_loading === 0) {\n",
              "        console.debug(\"Bokeh: all BokehJS libraries/stylesheets loaded\");\n",
              "        run_callbacks()\n",
              "      }\n",
              "    }\n",
              "\n",
              "    function on_error() {\n",
              "      console.error(\"failed to load \" + url);\n",
              "    }\n",
              "\n",
              "    for (var i = 0; i < css_urls.length; i++) {\n",
              "      var url = css_urls[i];\n",
              "      const element = document.createElement(\"link\");\n",
              "      element.onload = on_load;\n",
              "      element.onerror = on_error;\n",
              "      element.rel = \"stylesheet\";\n",
              "      element.type = \"text/css\";\n",
              "      element.href = url;\n",
              "      console.debug(\"Bokeh: injecting link tag for BokehJS stylesheet: \", url);\n",
              "      document.body.appendChild(element);\n",
              "    }\n",
              "\n",
              "    var skip = [];\n",
              "    if (window.requirejs) {\n",
              "      window.requirejs.config({'packages': {}, 'paths': {'gridstack': 'https://cdn.jsdelivr.net/npm/gridstack@4.2.5/dist/gridstack-h5', 'notyf': 'https://cdn.jsdelivr.net/npm/notyf@3/notyf.min'}, 'shim': {'gridstack': {'exports': 'GridStack'}}});\n",
              "      require([\"gridstack\"], function(GridStack) {\n",
              "\twindow.GridStack = GridStack\n",
              "\ton_load()\n",
              "      })\n",
              "      require([\"notyf\"], function() {\n",
              "\ton_load()\n",
              "      })\n",
              "      root._bokeh_is_loading = css_urls.length + 2;\n",
              "    } else {\n",
              "      root._bokeh_is_loading = css_urls.length + js_urls.length + js_modules.length;\n",
              "    }    if (((window['GridStack'] !== undefined) && (!(window['GridStack'] instanceof HTMLElement))) || window.requirejs) {\n",
              "      var urls = ['https://cdn.holoviz.org/panel/0.14.4/dist/bundled/gridstack/gridstack@4.2.5/dist/gridstack-h5.js'];\n",
              "      for (var i = 0; i < urls.length; i++) {\n",
              "        skip.push(urls[i])\n",
              "      }\n",
              "    }    if (((window['Notyf'] !== undefined) && (!(window['Notyf'] instanceof HTMLElement))) || window.requirejs) {\n",
              "      var urls = ['https://cdn.holoviz.org/panel/0.14.4/dist/bundled/notificationarea/notyf@3/notyf.min.js'];\n",
              "      for (var i = 0; i < urls.length; i++) {\n",
              "        skip.push(urls[i])\n",
              "      }\n",
              "    }    for (var i = 0; i < js_urls.length; i++) {\n",
              "      var url = js_urls[i];\n",
              "      if (skip.indexOf(url) >= 0) {\n",
              "\tif (!window.requirejs) {\n",
              "\t  on_load();\n",
              "\t}\n",
              "\tcontinue;\n",
              "      }\n",
              "      var element = document.createElement('script');\n",
              "      element.onload = on_load;\n",
              "      element.onerror = on_error;\n",
              "      element.async = false;\n",
              "      element.src = url;\n",
              "      console.debug(\"Bokeh: injecting script tag for BokehJS library: \", url);\n",
              "      document.head.appendChild(element);\n",
              "    }\n",
              "    for (var i = 0; i < js_modules.length; i++) {\n",
              "      var url = js_modules[i];\n",
              "      if (skip.indexOf(url) >= 0) {\n",
              "\tif (!window.requirejs) {\n",
              "\t  on_load();\n",
              "\t}\n",
              "\tcontinue;\n",
              "      }\n",
              "      var element = document.createElement('script');\n",
              "      element.onload = on_load;\n",
              "      element.onerror = on_error;\n",
              "      element.async = false;\n",
              "      element.src = url;\n",
              "      element.type = \"module\";\n",
              "      console.debug(\"Bokeh: injecting script tag for BokehJS library: \", url);\n",
              "      document.head.appendChild(element);\n",
              "    }\n",
              "    if (!js_urls.length && !js_modules.length) {\n",
              "      on_load()\n",
              "    }\n",
              "  };\n",
              "\n",
              "  function inject_raw_css(css) {\n",
              "    const element = document.createElement(\"style\");\n",
              "    element.appendChild(document.createTextNode(css));\n",
              "    document.body.appendChild(element);\n",
              "  }\n",
              "\n",
              "  var js_urls = [\"https://cdn.bokeh.org/bokeh/release/bokeh-2.4.3.min.js\", \"https://cdn.bokeh.org/bokeh/release/bokeh-gl-2.4.3.min.js\", \"https://cdn.bokeh.org/bokeh/release/bokeh-widgets-2.4.3.min.js\", \"https://cdn.bokeh.org/bokeh/release/bokeh-tables-2.4.3.min.js\", \"https://cdn.bokeh.org/bokeh/release/bokeh-mathjax-2.4.3.min.js\", \"https://unpkg.com/@holoviz/panel@0.14.4/dist/panel.min.js\"];\n",
              "  var js_modules = [];\n",
              "  var css_urls = [\"https://cdn.holoviz.org/panel/0.14.4/dist/css/dataframe.css\", \"https://cdn.holoviz.org/panel/0.14.4/dist/css/widgets.css\", \"https://cdn.holoviz.org/panel/0.14.4/dist/css/debugger.css\", \"https://cdn.holoviz.org/panel/0.14.4/dist/css/card.css\", \"https://cdn.holoviz.org/panel/0.14.4/dist/css/alerts.css\", \"https://cdn.holoviz.org/panel/0.14.4/dist/css/json.css\", \"https://cdn.holoviz.org/panel/0.14.4/dist/css/markdown.css\", \"https://cdn.holoviz.org/panel/0.14.4/dist/css/loading.css\"];\n",
              "  var inline_js = [    function(Bokeh) {\n",
              "      inject_raw_css(\"\\n    .bk.pn-loading.arc:before {\\n      background-image: url(\\\"data:image/svg+xml;base64,PHN2ZyB4bWxucz0iaHR0cDovL3d3dy53My5vcmcvMjAwMC9zdmciIHN0eWxlPSJtYXJnaW46IGF1dG87IGJhY2tncm91bmQ6IG5vbmU7IGRpc3BsYXk6IGJsb2NrOyBzaGFwZS1yZW5kZXJpbmc6IGF1dG87IiB2aWV3Qm94PSIwIDAgMTAwIDEwMCIgcHJlc2VydmVBc3BlY3RSYXRpbz0ieE1pZFlNaWQiPiAgPGNpcmNsZSBjeD0iNTAiIGN5PSI1MCIgZmlsbD0ibm9uZSIgc3Ryb2tlPSIjYzNjM2MzIiBzdHJva2Utd2lkdGg9IjEwIiByPSIzNSIgc3Ryb2tlLWRhc2hhcnJheT0iMTY0LjkzMzYxNDMxMzQ2NDE1IDU2Ljk3Nzg3MTQzNzgyMTM4Ij4gICAgPGFuaW1hdGVUcmFuc2Zvcm0gYXR0cmlidXRlTmFtZT0idHJhbnNmb3JtIiB0eXBlPSJyb3RhdGUiIHJlcGVhdENvdW50PSJpbmRlZmluaXRlIiBkdXI9IjFzIiB2YWx1ZXM9IjAgNTAgNTA7MzYwIDUwIDUwIiBrZXlUaW1lcz0iMDsxIj48L2FuaW1hdGVUcmFuc2Zvcm0+ICA8L2NpcmNsZT48L3N2Zz4=\\\");\\n      background-size: auto calc(min(50%, 400px));\\n    }\\n    \");\n",
              "    },    function(Bokeh) {\n",
              "      Bokeh.set_log_level(\"info\");\n",
              "    },\n",
              "function(Bokeh) {} // ensure no trailing comma for IE\n",
              "  ];\n",
              "\n",
              "  function run_inline_js() {\n",
              "    if ((root.Bokeh !== undefined) || (force === true)) {\n",
              "      for (var i = 0; i < inline_js.length; i++) {\n",
              "        inline_js[i].call(root, root.Bokeh);\n",
              "      }} else if (Date.now() < root._bokeh_timeout) {\n",
              "      setTimeout(run_inline_js, 100);\n",
              "    } else if (!root._bokeh_failed_load) {\n",
              "      console.log(\"Bokeh: BokehJS failed to load within specified timeout.\");\n",
              "      root._bokeh_failed_load = true;\n",
              "    }\n",
              "  }\n",
              "\n",
              "  if (root._bokeh_is_loading === 0) {\n",
              "    console.debug(\"Bokeh: BokehJS loaded, going straight to plotting\");\n",
              "    run_inline_js();\n",
              "  } else {\n",
              "    load_libs(css_urls, js_urls, js_modules, function() {\n",
              "      console.debug(\"Bokeh: BokehJS plotting callback run at\", now());\n",
              "      run_inline_js();\n",
              "    });\n",
              "  }\n",
              "}(window));"
            ],
            "application/vnd.holoviews_load.v0+json": "(function(root) {\n  function now() {\n    return new Date();\n  }\n\n  var force = true;\n\n  if (typeof root._bokeh_onload_callbacks === \"undefined\" || force === true) {\n    root._bokeh_onload_callbacks = [];\n    root._bokeh_is_loading = undefined;\n  }\n\n  if (typeof (root._bokeh_timeout) === \"undefined\" || force === true) {\n    root._bokeh_timeout = Date.now() + 5000;\n    root._bokeh_failed_load = false;\n  }\n\n  function run_callbacks() {\n    try {\n      root._bokeh_onload_callbacks.forEach(function(callback) {\n        if (callback != null)\n          callback();\n      });\n    } finally {\n      delete root._bokeh_onload_callbacks\n    }\n    console.debug(\"Bokeh: all callbacks have finished\");\n  }\n\n  function load_libs(css_urls, js_urls, js_modules, callback) {\n    if (css_urls == null) css_urls = [];\n    if (js_urls == null) js_urls = [];\n    if (js_modules == null) js_modules = [];\n\n    root._bokeh_onload_callbacks.push(callback);\n    if (root._bokeh_is_loading > 0) {\n      console.debug(\"Bokeh: BokehJS is being loaded, scheduling callback at\", now());\n      return null;\n    }\n    if (js_urls.length === 0 && js_modules.length === 0) {\n      run_callbacks();\n      return null;\n    }\n    console.debug(\"Bokeh: BokehJS not loaded, scheduling load and callback at\", now());\n\n    function on_load() {\n      root._bokeh_is_loading--;\n      if (root._bokeh_is_loading === 0) {\n        console.debug(\"Bokeh: all BokehJS libraries/stylesheets loaded\");\n        run_callbacks()\n      }\n    }\n\n    function on_error() {\n      console.error(\"failed to load \" + url);\n    }\n\n    for (var i = 0; i < css_urls.length; i++) {\n      var url = css_urls[i];\n      const element = document.createElement(\"link\");\n      element.onload = on_load;\n      element.onerror = on_error;\n      element.rel = \"stylesheet\";\n      element.type = \"text/css\";\n      element.href = url;\n      console.debug(\"Bokeh: injecting link tag for BokehJS stylesheet: \", url);\n      document.body.appendChild(element);\n    }\n\n    var skip = [];\n    if (window.requirejs) {\n      window.requirejs.config({'packages': {}, 'paths': {'gridstack': 'https://cdn.jsdelivr.net/npm/gridstack@4.2.5/dist/gridstack-h5', 'notyf': 'https://cdn.jsdelivr.net/npm/notyf@3/notyf.min'}, 'shim': {'gridstack': {'exports': 'GridStack'}}});\n      require([\"gridstack\"], function(GridStack) {\n\twindow.GridStack = GridStack\n\ton_load()\n      })\n      require([\"notyf\"], function() {\n\ton_load()\n      })\n      root._bokeh_is_loading = css_urls.length + 2;\n    } else {\n      root._bokeh_is_loading = css_urls.length + js_urls.length + js_modules.length;\n    }    if (((window['GridStack'] !== undefined) && (!(window['GridStack'] instanceof HTMLElement))) || window.requirejs) {\n      var urls = ['https://cdn.holoviz.org/panel/0.14.4/dist/bundled/gridstack/gridstack@4.2.5/dist/gridstack-h5.js'];\n      for (var i = 0; i < urls.length; i++) {\n        skip.push(urls[i])\n      }\n    }    if (((window['Notyf'] !== undefined) && (!(window['Notyf'] instanceof HTMLElement))) || window.requirejs) {\n      var urls = ['https://cdn.holoviz.org/panel/0.14.4/dist/bundled/notificationarea/notyf@3/notyf.min.js'];\n      for (var i = 0; i < urls.length; i++) {\n        skip.push(urls[i])\n      }\n    }    for (var i = 0; i < js_urls.length; i++) {\n      var url = js_urls[i];\n      if (skip.indexOf(url) >= 0) {\n\tif (!window.requirejs) {\n\t  on_load();\n\t}\n\tcontinue;\n      }\n      var element = document.createElement('script');\n      element.onload = on_load;\n      element.onerror = on_error;\n      element.async = false;\n      element.src = url;\n      console.debug(\"Bokeh: injecting script tag for BokehJS library: \", url);\n      document.head.appendChild(element);\n    }\n    for (var i = 0; i < js_modules.length; i++) {\n      var url = js_modules[i];\n      if (skip.indexOf(url) >= 0) {\n\tif (!window.requirejs) {\n\t  on_load();\n\t}\n\tcontinue;\n      }\n      var element = document.createElement('script');\n      element.onload = on_load;\n      element.onerror = on_error;\n      element.async = false;\n      element.src = url;\n      element.type = \"module\";\n      console.debug(\"Bokeh: injecting script tag for BokehJS library: \", url);\n      document.head.appendChild(element);\n    }\n    if (!js_urls.length && !js_modules.length) {\n      on_load()\n    }\n  };\n\n  function inject_raw_css(css) {\n    const element = document.createElement(\"style\");\n    element.appendChild(document.createTextNode(css));\n    document.body.appendChild(element);\n  }\n\n  var js_urls = [\"https://cdn.bokeh.org/bokeh/release/bokeh-2.4.3.min.js\", \"https://cdn.bokeh.org/bokeh/release/bokeh-gl-2.4.3.min.js\", \"https://cdn.bokeh.org/bokeh/release/bokeh-widgets-2.4.3.min.js\", \"https://cdn.bokeh.org/bokeh/release/bokeh-tables-2.4.3.min.js\", \"https://cdn.bokeh.org/bokeh/release/bokeh-mathjax-2.4.3.min.js\", \"https://unpkg.com/@holoviz/panel@0.14.4/dist/panel.min.js\"];\n  var js_modules = [];\n  var css_urls = [\"https://cdn.holoviz.org/panel/0.14.4/dist/css/dataframe.css\", \"https://cdn.holoviz.org/panel/0.14.4/dist/css/widgets.css\", \"https://cdn.holoviz.org/panel/0.14.4/dist/css/debugger.css\", \"https://cdn.holoviz.org/panel/0.14.4/dist/css/card.css\", \"https://cdn.holoviz.org/panel/0.14.4/dist/css/alerts.css\", \"https://cdn.holoviz.org/panel/0.14.4/dist/css/json.css\", \"https://cdn.holoviz.org/panel/0.14.4/dist/css/markdown.css\", \"https://cdn.holoviz.org/panel/0.14.4/dist/css/loading.css\"];\n  var inline_js = [    function(Bokeh) {\n      inject_raw_css(\"\\n    .bk.pn-loading.arc:before {\\n      background-image: url(\\\"data:image/svg+xml;base64,PHN2ZyB4bWxucz0iaHR0cDovL3d3dy53My5vcmcvMjAwMC9zdmciIHN0eWxlPSJtYXJnaW46IGF1dG87IGJhY2tncm91bmQ6IG5vbmU7IGRpc3BsYXk6IGJsb2NrOyBzaGFwZS1yZW5kZXJpbmc6IGF1dG87IiB2aWV3Qm94PSIwIDAgMTAwIDEwMCIgcHJlc2VydmVBc3BlY3RSYXRpbz0ieE1pZFlNaWQiPiAgPGNpcmNsZSBjeD0iNTAiIGN5PSI1MCIgZmlsbD0ibm9uZSIgc3Ryb2tlPSIjYzNjM2MzIiBzdHJva2Utd2lkdGg9IjEwIiByPSIzNSIgc3Ryb2tlLWRhc2hhcnJheT0iMTY0LjkzMzYxNDMxMzQ2NDE1IDU2Ljk3Nzg3MTQzNzgyMTM4Ij4gICAgPGFuaW1hdGVUcmFuc2Zvcm0gYXR0cmlidXRlTmFtZT0idHJhbnNmb3JtIiB0eXBlPSJyb3RhdGUiIHJlcGVhdENvdW50PSJpbmRlZmluaXRlIiBkdXI9IjFzIiB2YWx1ZXM9IjAgNTAgNTA7MzYwIDUwIDUwIiBrZXlUaW1lcz0iMDsxIj48L2FuaW1hdGVUcmFuc2Zvcm0+ICA8L2NpcmNsZT48L3N2Zz4=\\\");\\n      background-size: auto calc(min(50%, 400px));\\n    }\\n    \");\n    },    function(Bokeh) {\n      Bokeh.set_log_level(\"info\");\n    },\nfunction(Bokeh) {} // ensure no trailing comma for IE\n  ];\n\n  function run_inline_js() {\n    if ((root.Bokeh !== undefined) || (force === true)) {\n      for (var i = 0; i < inline_js.length; i++) {\n        inline_js[i].call(root, root.Bokeh);\n      }} else if (Date.now() < root._bokeh_timeout) {\n      setTimeout(run_inline_js, 100);\n    } else if (!root._bokeh_failed_load) {\n      console.log(\"Bokeh: BokehJS failed to load within specified timeout.\");\n      root._bokeh_failed_load = true;\n    }\n  }\n\n  if (root._bokeh_is_loading === 0) {\n    console.debug(\"Bokeh: BokehJS loaded, going straight to plotting\");\n    run_inline_js();\n  } else {\n    load_libs(css_urls, js_urls, js_modules, function() {\n      console.debug(\"Bokeh: BokehJS plotting callback run at\", now());\n      run_inline_js();\n    });\n  }\n}(window));"
          },
          "metadata": {}
        },
        {
          "output_type": "display_data",
          "data": {
            "application/vnd.holoviews_load.v0+json": "\nif ((window.PyViz === undefined) || (window.PyViz instanceof HTMLElement)) {\n  window.PyViz = {comms: {}, comm_status:{}, kernels:{}, receivers: {}, plot_index: []}\n}\n\n\n    function JupyterCommManager() {\n    }\n\n    JupyterCommManager.prototype.register_target = function(plot_id, comm_id, msg_handler) {\n      if (window.comm_manager || ((window.Jupyter !== undefined) && (Jupyter.notebook.kernel != null))) {\n        var comm_manager = window.comm_manager || Jupyter.notebook.kernel.comm_manager;\n        comm_manager.register_target(comm_id, function(comm) {\n          comm.on_msg(msg_handler);\n        });\n      } else if ((plot_id in window.PyViz.kernels) && (window.PyViz.kernels[plot_id])) {\n        window.PyViz.kernels[plot_id].registerCommTarget(comm_id, function(comm) {\n          comm.onMsg = msg_handler;\n        });\n      } else if (typeof google != 'undefined' && google.colab.kernel != null) {\n        google.colab.kernel.comms.registerTarget(comm_id, (comm) => {\n          var messages = comm.messages[Symbol.asyncIterator]();\n          function processIteratorResult(result) {\n            var message = result.value;\n            console.log(message)\n            var content = {data: message.data, comm_id};\n            var buffers = []\n            for (var buffer of message.buffers || []) {\n              buffers.push(new DataView(buffer))\n            }\n            var metadata = message.metadata || {};\n            var msg = {content, buffers, metadata}\n            msg_handler(msg);\n            return messages.next().then(processIteratorResult);\n          }\n          return messages.next().then(processIteratorResult);\n        })\n      }\n    }\n\n    JupyterCommManager.prototype.get_client_comm = function(plot_id, comm_id, msg_handler) {\n      if (comm_id in window.PyViz.comms) {\n        return window.PyViz.comms[comm_id];\n      } else if (window.comm_manager || ((window.Jupyter !== undefined) && (Jupyter.notebook.kernel != null))) {\n        var comm_manager = window.comm_manager || Jupyter.notebook.kernel.comm_manager;\n        var comm = comm_manager.new_comm(comm_id, {}, {}, {}, comm_id);\n        if (msg_handler) {\n          comm.on_msg(msg_handler);\n        }\n      } else if ((plot_id in window.PyViz.kernels) && (window.PyViz.kernels[plot_id])) {\n        var comm = window.PyViz.kernels[plot_id].connectToComm(comm_id);\n        comm.open();\n        if (msg_handler) {\n          comm.onMsg = msg_handler;\n        }\n      } else if (typeof google != 'undefined' && google.colab.kernel != null) {\n        var comm_promise = google.colab.kernel.comms.open(comm_id)\n        comm_promise.then((comm) => {\n          window.PyViz.comms[comm_id] = comm;\n          if (msg_handler) {\n            var messages = comm.messages[Symbol.asyncIterator]();\n            function processIteratorResult(result) {\n              var message = result.value;\n              var content = {data: message.data};\n              var metadata = message.metadata || {comm_id};\n              var msg = {content, metadata}\n              msg_handler(msg);\n              return messages.next().then(processIteratorResult);\n            }\n            return messages.next().then(processIteratorResult);\n          }\n        }) \n        var sendClosure = (data, metadata, buffers, disposeOnDone) => {\n          return comm_promise.then((comm) => {\n            comm.send(data, metadata, buffers, disposeOnDone);\n          });\n        };\n        var comm = {\n          send: sendClosure\n        };\n      }\n      window.PyViz.comms[comm_id] = comm;\n      return comm;\n    }\n    window.PyViz.comm_manager = new JupyterCommManager();\n    \n\n\nvar JS_MIME_TYPE = 'application/javascript';\nvar HTML_MIME_TYPE = 'text/html';\nvar EXEC_MIME_TYPE = 'application/vnd.holoviews_exec.v0+json';\nvar CLASS_NAME = 'output';\n\n/**\n * Render data to the DOM node\n */\nfunction render(props, node) {\n  var div = document.createElement(\"div\");\n  var script = document.createElement(\"script\");\n  node.appendChild(div);\n  node.appendChild(script);\n}\n\n/**\n * Handle when a new output is added\n */\nfunction handle_add_output(event, handle) {\n  var output_area = handle.output_area;\n  var output = handle.output;\n  if ((output.data == undefined) || (!output.data.hasOwnProperty(EXEC_MIME_TYPE))) {\n    return\n  }\n  var id = output.metadata[EXEC_MIME_TYPE][\"id\"];\n  var toinsert = output_area.element.find(\".\" + CLASS_NAME.split(' ')[0]);\n  if (id !== undefined) {\n    var nchildren = toinsert.length;\n    var html_node = toinsert[nchildren-1].children[0];\n    html_node.innerHTML = output.data[HTML_MIME_TYPE];\n    var scripts = [];\n    var nodelist = html_node.querySelectorAll(\"script\");\n    for (var i in nodelist) {\n      if (nodelist.hasOwnProperty(i)) {\n        scripts.push(nodelist[i])\n      }\n    }\n\n    scripts.forEach( function (oldScript) {\n      var newScript = document.createElement(\"script\");\n      var attrs = [];\n      var nodemap = oldScript.attributes;\n      for (var j in nodemap) {\n        if (nodemap.hasOwnProperty(j)) {\n          attrs.push(nodemap[j])\n        }\n      }\n      attrs.forEach(function(attr) { newScript.setAttribute(attr.name, attr.value) });\n      newScript.appendChild(document.createTextNode(oldScript.innerHTML));\n      oldScript.parentNode.replaceChild(newScript, oldScript);\n    });\n    if (JS_MIME_TYPE in output.data) {\n      toinsert[nchildren-1].children[1].textContent = output.data[JS_MIME_TYPE];\n    }\n    output_area._hv_plot_id = id;\n    if ((window.Bokeh !== undefined) && (id in Bokeh.index)) {\n      window.PyViz.plot_index[id] = Bokeh.index[id];\n    } else {\n      window.PyViz.plot_index[id] = null;\n    }\n  } else if (output.metadata[EXEC_MIME_TYPE][\"server_id\"] !== undefined) {\n    var bk_div = document.createElement(\"div\");\n    bk_div.innerHTML = output.data[HTML_MIME_TYPE];\n    var script_attrs = bk_div.children[0].attributes;\n    for (var i = 0; i < script_attrs.length; i++) {\n      toinsert[toinsert.length - 1].childNodes[1].setAttribute(script_attrs[i].name, script_attrs[i].value);\n    }\n    // store reference to server id on output_area\n    output_area._bokeh_server_id = output.metadata[EXEC_MIME_TYPE][\"server_id\"];\n  }\n}\n\n/**\n * Handle when an output is cleared or removed\n */\nfunction handle_clear_output(event, handle) {\n  var id = handle.cell.output_area._hv_plot_id;\n  var server_id = handle.cell.output_area._bokeh_server_id;\n  if (((id === undefined) || !(id in PyViz.plot_index)) && (server_id !== undefined)) { return; }\n  var comm = window.PyViz.comm_manager.get_client_comm(\"hv-extension-comm\", \"hv-extension-comm\", function () {});\n  if (server_id !== null) {\n    comm.send({event_type: 'server_delete', 'id': server_id});\n    return;\n  } else if (comm !== null) {\n    comm.send({event_type: 'delete', 'id': id});\n  }\n  delete PyViz.plot_index[id];\n  if ((window.Bokeh !== undefined) & (id in window.Bokeh.index)) {\n    var doc = window.Bokeh.index[id].model.document\n    doc.clear();\n    const i = window.Bokeh.documents.indexOf(doc);\n    if (i > -1) {\n      window.Bokeh.documents.splice(i, 1);\n    }\n  }\n}\n\n/**\n * Handle kernel restart event\n */\nfunction handle_kernel_cleanup(event, handle) {\n  delete PyViz.comms[\"hv-extension-comm\"];\n  window.PyViz.plot_index = {}\n}\n\n/**\n * Handle update_display_data messages\n */\nfunction handle_update_output(event, handle) {\n  handle_clear_output(event, {cell: {output_area: handle.output_area}})\n  handle_add_output(event, handle)\n}\n\nfunction register_renderer(events, OutputArea) {\n  function append_mime(data, metadata, element) {\n    // create a DOM node to render to\n    var toinsert = this.create_output_subarea(\n    metadata,\n    CLASS_NAME,\n    EXEC_MIME_TYPE\n    );\n    this.keyboard_manager.register_events(toinsert);\n    // Render to node\n    var props = {data: data, metadata: metadata[EXEC_MIME_TYPE]};\n    render(props, toinsert[0]);\n    element.append(toinsert);\n    return toinsert\n  }\n\n  events.on('output_added.OutputArea', handle_add_output);\n  events.on('output_updated.OutputArea', handle_update_output);\n  events.on('clear_output.CodeCell', handle_clear_output);\n  events.on('delete.Cell', handle_clear_output);\n  events.on('kernel_ready.Kernel', handle_kernel_cleanup);\n\n  OutputArea.prototype.register_mime_type(EXEC_MIME_TYPE, append_mime, {\n    safe: true,\n    index: 0\n  });\n}\n\nif (window.Jupyter !== undefined) {\n  try {\n    var events = require('base/js/events');\n    var OutputArea = require('notebook/js/outputarea').OutputArea;\n    if (OutputArea.prototype.mime_types().indexOf(EXEC_MIME_TYPE) == -1) {\n      register_renderer(events, OutputArea);\n    }\n  } catch(err) {\n  }\n}\n",
            "application/javascript": [
              "\n",
              "if ((window.PyViz === undefined) || (window.PyViz instanceof HTMLElement)) {\n",
              "  window.PyViz = {comms: {}, comm_status:{}, kernels:{}, receivers: {}, plot_index: []}\n",
              "}\n",
              "\n",
              "\n",
              "    function JupyterCommManager() {\n",
              "    }\n",
              "\n",
              "    JupyterCommManager.prototype.register_target = function(plot_id, comm_id, msg_handler) {\n",
              "      if (window.comm_manager || ((window.Jupyter !== undefined) && (Jupyter.notebook.kernel != null))) {\n",
              "        var comm_manager = window.comm_manager || Jupyter.notebook.kernel.comm_manager;\n",
              "        comm_manager.register_target(comm_id, function(comm) {\n",
              "          comm.on_msg(msg_handler);\n",
              "        });\n",
              "      } else if ((plot_id in window.PyViz.kernels) && (window.PyViz.kernels[plot_id])) {\n",
              "        window.PyViz.kernels[plot_id].registerCommTarget(comm_id, function(comm) {\n",
              "          comm.onMsg = msg_handler;\n",
              "        });\n",
              "      } else if (typeof google != 'undefined' && google.colab.kernel != null) {\n",
              "        google.colab.kernel.comms.registerTarget(comm_id, (comm) => {\n",
              "          var messages = comm.messages[Symbol.asyncIterator]();\n",
              "          function processIteratorResult(result) {\n",
              "            var message = result.value;\n",
              "            console.log(message)\n",
              "            var content = {data: message.data, comm_id};\n",
              "            var buffers = []\n",
              "            for (var buffer of message.buffers || []) {\n",
              "              buffers.push(new DataView(buffer))\n",
              "            }\n",
              "            var metadata = message.metadata || {};\n",
              "            var msg = {content, buffers, metadata}\n",
              "            msg_handler(msg);\n",
              "            return messages.next().then(processIteratorResult);\n",
              "          }\n",
              "          return messages.next().then(processIteratorResult);\n",
              "        })\n",
              "      }\n",
              "    }\n",
              "\n",
              "    JupyterCommManager.prototype.get_client_comm = function(plot_id, comm_id, msg_handler) {\n",
              "      if (comm_id in window.PyViz.comms) {\n",
              "        return window.PyViz.comms[comm_id];\n",
              "      } else if (window.comm_manager || ((window.Jupyter !== undefined) && (Jupyter.notebook.kernel != null))) {\n",
              "        var comm_manager = window.comm_manager || Jupyter.notebook.kernel.comm_manager;\n",
              "        var comm = comm_manager.new_comm(comm_id, {}, {}, {}, comm_id);\n",
              "        if (msg_handler) {\n",
              "          comm.on_msg(msg_handler);\n",
              "        }\n",
              "      } else if ((plot_id in window.PyViz.kernels) && (window.PyViz.kernels[plot_id])) {\n",
              "        var comm = window.PyViz.kernels[plot_id].connectToComm(comm_id);\n",
              "        comm.open();\n",
              "        if (msg_handler) {\n",
              "          comm.onMsg = msg_handler;\n",
              "        }\n",
              "      } else if (typeof google != 'undefined' && google.colab.kernel != null) {\n",
              "        var comm_promise = google.colab.kernel.comms.open(comm_id)\n",
              "        comm_promise.then((comm) => {\n",
              "          window.PyViz.comms[comm_id] = comm;\n",
              "          if (msg_handler) {\n",
              "            var messages = comm.messages[Symbol.asyncIterator]();\n",
              "            function processIteratorResult(result) {\n",
              "              var message = result.value;\n",
              "              var content = {data: message.data};\n",
              "              var metadata = message.metadata || {comm_id};\n",
              "              var msg = {content, metadata}\n",
              "              msg_handler(msg);\n",
              "              return messages.next().then(processIteratorResult);\n",
              "            }\n",
              "            return messages.next().then(processIteratorResult);\n",
              "          }\n",
              "        }) \n",
              "        var sendClosure = (data, metadata, buffers, disposeOnDone) => {\n",
              "          return comm_promise.then((comm) => {\n",
              "            comm.send(data, metadata, buffers, disposeOnDone);\n",
              "          });\n",
              "        };\n",
              "        var comm = {\n",
              "          send: sendClosure\n",
              "        };\n",
              "      }\n",
              "      window.PyViz.comms[comm_id] = comm;\n",
              "      return comm;\n",
              "    }\n",
              "    window.PyViz.comm_manager = new JupyterCommManager();\n",
              "    \n",
              "\n",
              "\n",
              "var JS_MIME_TYPE = 'application/javascript';\n",
              "var HTML_MIME_TYPE = 'text/html';\n",
              "var EXEC_MIME_TYPE = 'application/vnd.holoviews_exec.v0+json';\n",
              "var CLASS_NAME = 'output';\n",
              "\n",
              "/**\n",
              " * Render data to the DOM node\n",
              " */\n",
              "function render(props, node) {\n",
              "  var div = document.createElement(\"div\");\n",
              "  var script = document.createElement(\"script\");\n",
              "  node.appendChild(div);\n",
              "  node.appendChild(script);\n",
              "}\n",
              "\n",
              "/**\n",
              " * Handle when a new output is added\n",
              " */\n",
              "function handle_add_output(event, handle) {\n",
              "  var output_area = handle.output_area;\n",
              "  var output = handle.output;\n",
              "  if ((output.data == undefined) || (!output.data.hasOwnProperty(EXEC_MIME_TYPE))) {\n",
              "    return\n",
              "  }\n",
              "  var id = output.metadata[EXEC_MIME_TYPE][\"id\"];\n",
              "  var toinsert = output_area.element.find(\".\" + CLASS_NAME.split(' ')[0]);\n",
              "  if (id !== undefined) {\n",
              "    var nchildren = toinsert.length;\n",
              "    var html_node = toinsert[nchildren-1].children[0];\n",
              "    html_node.innerHTML = output.data[HTML_MIME_TYPE];\n",
              "    var scripts = [];\n",
              "    var nodelist = html_node.querySelectorAll(\"script\");\n",
              "    for (var i in nodelist) {\n",
              "      if (nodelist.hasOwnProperty(i)) {\n",
              "        scripts.push(nodelist[i])\n",
              "      }\n",
              "    }\n",
              "\n",
              "    scripts.forEach( function (oldScript) {\n",
              "      var newScript = document.createElement(\"script\");\n",
              "      var attrs = [];\n",
              "      var nodemap = oldScript.attributes;\n",
              "      for (var j in nodemap) {\n",
              "        if (nodemap.hasOwnProperty(j)) {\n",
              "          attrs.push(nodemap[j])\n",
              "        }\n",
              "      }\n",
              "      attrs.forEach(function(attr) { newScript.setAttribute(attr.name, attr.value) });\n",
              "      newScript.appendChild(document.createTextNode(oldScript.innerHTML));\n",
              "      oldScript.parentNode.replaceChild(newScript, oldScript);\n",
              "    });\n",
              "    if (JS_MIME_TYPE in output.data) {\n",
              "      toinsert[nchildren-1].children[1].textContent = output.data[JS_MIME_TYPE];\n",
              "    }\n",
              "    output_area._hv_plot_id = id;\n",
              "    if ((window.Bokeh !== undefined) && (id in Bokeh.index)) {\n",
              "      window.PyViz.plot_index[id] = Bokeh.index[id];\n",
              "    } else {\n",
              "      window.PyViz.plot_index[id] = null;\n",
              "    }\n",
              "  } else if (output.metadata[EXEC_MIME_TYPE][\"server_id\"] !== undefined) {\n",
              "    var bk_div = document.createElement(\"div\");\n",
              "    bk_div.innerHTML = output.data[HTML_MIME_TYPE];\n",
              "    var script_attrs = bk_div.children[0].attributes;\n",
              "    for (var i = 0; i < script_attrs.length; i++) {\n",
              "      toinsert[toinsert.length - 1].childNodes[1].setAttribute(script_attrs[i].name, script_attrs[i].value);\n",
              "    }\n",
              "    // store reference to server id on output_area\n",
              "    output_area._bokeh_server_id = output.metadata[EXEC_MIME_TYPE][\"server_id\"];\n",
              "  }\n",
              "}\n",
              "\n",
              "/**\n",
              " * Handle when an output is cleared or removed\n",
              " */\n",
              "function handle_clear_output(event, handle) {\n",
              "  var id = handle.cell.output_area._hv_plot_id;\n",
              "  var server_id = handle.cell.output_area._bokeh_server_id;\n",
              "  if (((id === undefined) || !(id in PyViz.plot_index)) && (server_id !== undefined)) { return; }\n",
              "  var comm = window.PyViz.comm_manager.get_client_comm(\"hv-extension-comm\", \"hv-extension-comm\", function () {});\n",
              "  if (server_id !== null) {\n",
              "    comm.send({event_type: 'server_delete', 'id': server_id});\n",
              "    return;\n",
              "  } else if (comm !== null) {\n",
              "    comm.send({event_type: 'delete', 'id': id});\n",
              "  }\n",
              "  delete PyViz.plot_index[id];\n",
              "  if ((window.Bokeh !== undefined) & (id in window.Bokeh.index)) {\n",
              "    var doc = window.Bokeh.index[id].model.document\n",
              "    doc.clear();\n",
              "    const i = window.Bokeh.documents.indexOf(doc);\n",
              "    if (i > -1) {\n",
              "      window.Bokeh.documents.splice(i, 1);\n",
              "    }\n",
              "  }\n",
              "}\n",
              "\n",
              "/**\n",
              " * Handle kernel restart event\n",
              " */\n",
              "function handle_kernel_cleanup(event, handle) {\n",
              "  delete PyViz.comms[\"hv-extension-comm\"];\n",
              "  window.PyViz.plot_index = {}\n",
              "}\n",
              "\n",
              "/**\n",
              " * Handle update_display_data messages\n",
              " */\n",
              "function handle_update_output(event, handle) {\n",
              "  handle_clear_output(event, {cell: {output_area: handle.output_area}})\n",
              "  handle_add_output(event, handle)\n",
              "}\n",
              "\n",
              "function register_renderer(events, OutputArea) {\n",
              "  function append_mime(data, metadata, element) {\n",
              "    // create a DOM node to render to\n",
              "    var toinsert = this.create_output_subarea(\n",
              "    metadata,\n",
              "    CLASS_NAME,\n",
              "    EXEC_MIME_TYPE\n",
              "    );\n",
              "    this.keyboard_manager.register_events(toinsert);\n",
              "    // Render to node\n",
              "    var props = {data: data, metadata: metadata[EXEC_MIME_TYPE]};\n",
              "    render(props, toinsert[0]);\n",
              "    element.append(toinsert);\n",
              "    return toinsert\n",
              "  }\n",
              "\n",
              "  events.on('output_added.OutputArea', handle_add_output);\n",
              "  events.on('output_updated.OutputArea', handle_update_output);\n",
              "  events.on('clear_output.CodeCell', handle_clear_output);\n",
              "  events.on('delete.Cell', handle_clear_output);\n",
              "  events.on('kernel_ready.Kernel', handle_kernel_cleanup);\n",
              "\n",
              "  OutputArea.prototype.register_mime_type(EXEC_MIME_TYPE, append_mime, {\n",
              "    safe: true,\n",
              "    index: 0\n",
              "  });\n",
              "}\n",
              "\n",
              "if (window.Jupyter !== undefined) {\n",
              "  try {\n",
              "    var events = require('base/js/events');\n",
              "    var OutputArea = require('notebook/js/outputarea').OutputArea;\n",
              "    if (OutputArea.prototype.mime_types().indexOf(EXEC_MIME_TYPE) == -1) {\n",
              "      register_renderer(events, OutputArea);\n",
              "    }\n",
              "  } catch(err) {\n",
              "  }\n",
              "}\n"
            ]
          },
          "metadata": {}
        },
        {
          "output_type": "display_data",
          "data": {
            "text/html": [
              "<style>.bk-root, .bk-root .bk:before, .bk-root .bk:after {\n",
              "  font-family: var(--jp-ui-font-size1);\n",
              "  font-size: var(--jp-ui-font-size1);\n",
              "  color: var(--jp-ui-font-color1);\n",
              "}\n",
              "</style>"
            ]
          },
          "metadata": {}
        }
      ]
    },
    {
      "cell_type": "code",
      "source": [
        "def get_answers(prompts):\n",
        "    response = openai.ChatCompletion.create(\n",
        "        model=\"gpt-3.5-turbo\",\n",
        "        messages=prompts\n",
        "    )\n",
        "    return response.choices[0].message.content"
      ],
      "metadata": {
        "id": "fpIx4HrQ6f66"
      },
      "execution_count": 43,
      "outputs": []
    },
    {
      "cell_type": "code",
      "source": [
        "def collect_messages(_):\n",
        "    prompt = inp.value_input\n",
        "    inp.value = ''\n",
        "    context.append({'role':'user', 'content':f\"{prompt}\"})\n",
        "    response = get_answers(context) \n",
        "    context.append({'role':'assistant', 'content':f\"{response}\"})\n",
        "    panels.append(\n",
        "        pn.Row('User:', pn.pane.Markdown(prompt, width=1000)))\n",
        "    panels.append(\n",
        "        pn.Row('Assistant:', pn.pane.Markdown(response, width=1000, style={'background-color': '#925D0B'})))\n",
        " \n",
        "    return pn.Column(*panels)"
      ],
      "metadata": {
        "id": "KRtM_mtt8NFU"
      },
      "execution_count": 44,
      "outputs": []
    },
    {
      "cell_type": "markdown",
      "source": [
        "Now, let's create a context description for the Insurance Helper Bot, and finalize its look. "
      ],
      "metadata": {
        "id": "lKqQoOz9NU7g"
      }
    },
    {
      "cell_type": "code",
      "source": [
        "context = [ {'role':'system', 'content':\"\"\"\n",
        "You are the InsuranceHelperBot from a new bank in the Netherlands similar to ING, an automated service to guide customers in their insurance choice journey. \n",
        "You first greet the customer, then clarify an insurance type the customer needs, and then offer possible options.\n",
        "You wait to help with all type of insurances, then summarize the proposed options and check for a final time if the customer wants to add anything else. \n",
        "Finally you collect the email address of the customer to send the insurance(s) offer.\n",
        "Make sure to clarify all options, to uniquely identify the insurance from avaible options.\n",
        "You respond in a short, formal banking style. \n",
        "\"\"\"} ]  \n",
        "\n",
        "inp = pn.widgets.TextInput(value=\"Dear valued customer\", placeholder='Please enter your message here…')\n",
        "button_conversation = pn.widgets.Button(name=\"Ask me\")\n",
        "\n",
        "interactive_conversation = pn.bind(collect_messages, button_conversation)\n",
        "\n",
        "dashboard = pn.Column(\n",
        "    inp,\n",
        "    pn.Row(button_conversation),\n",
        "    pn.panel(interactive_conversation, loading_indicator=True, height=300),\n",
        ")\n",
        "\n",
        "dashboard"
      ],
      "metadata": {
        "colab": {
          "base_uri": "https://localhost:8080/",
          "height": 1000
        },
        "id": "dT9cR5JDAHpY",
        "outputId": "6bb27aef-57d8-4301-fea8-d241a693112b"
      },
      "execution_count": 45,
      "outputs": [
        {
          "output_type": "display_data",
          "data": {
            "application/javascript": [
              "(function(root) {\n",
              "  function now() {\n",
              "    return new Date();\n",
              "  }\n",
              "\n",
              "  var force = true;\n",
              "\n",
              "  if (typeof root._bokeh_onload_callbacks === \"undefined\" || force === true) {\n",
              "    root._bokeh_onload_callbacks = [];\n",
              "    root._bokeh_is_loading = undefined;\n",
              "  }\n",
              "\n",
              "  if (typeof (root._bokeh_timeout) === \"undefined\" || force === true) {\n",
              "    root._bokeh_timeout = Date.now() + 5000;\n",
              "    root._bokeh_failed_load = false;\n",
              "  }\n",
              "\n",
              "  function run_callbacks() {\n",
              "    try {\n",
              "      root._bokeh_onload_callbacks.forEach(function(callback) {\n",
              "        if (callback != null)\n",
              "          callback();\n",
              "      });\n",
              "    } finally {\n",
              "      delete root._bokeh_onload_callbacks\n",
              "    }\n",
              "    console.debug(\"Bokeh: all callbacks have finished\");\n",
              "  }\n",
              "\n",
              "  function load_libs(css_urls, js_urls, js_modules, callback) {\n",
              "    if (css_urls == null) css_urls = [];\n",
              "    if (js_urls == null) js_urls = [];\n",
              "    if (js_modules == null) js_modules = [];\n",
              "\n",
              "    root._bokeh_onload_callbacks.push(callback);\n",
              "    if (root._bokeh_is_loading > 0) {\n",
              "      console.debug(\"Bokeh: BokehJS is being loaded, scheduling callback at\", now());\n",
              "      return null;\n",
              "    }\n",
              "    if (js_urls.length === 0 && js_modules.length === 0) {\n",
              "      run_callbacks();\n",
              "      return null;\n",
              "    }\n",
              "    console.debug(\"Bokeh: BokehJS not loaded, scheduling load and callback at\", now());\n",
              "\n",
              "    function on_load() {\n",
              "      root._bokeh_is_loading--;\n",
              "      if (root._bokeh_is_loading === 0) {\n",
              "        console.debug(\"Bokeh: all BokehJS libraries/stylesheets loaded\");\n",
              "        run_callbacks()\n",
              "      }\n",
              "    }\n",
              "\n",
              "    function on_error() {\n",
              "      console.error(\"failed to load \" + url);\n",
              "    }\n",
              "\n",
              "    for (var i = 0; i < css_urls.length; i++) {\n",
              "      var url = css_urls[i];\n",
              "      const element = document.createElement(\"link\");\n",
              "      element.onload = on_load;\n",
              "      element.onerror = on_error;\n",
              "      element.rel = \"stylesheet\";\n",
              "      element.type = \"text/css\";\n",
              "      element.href = url;\n",
              "      console.debug(\"Bokeh: injecting link tag for BokehJS stylesheet: \", url);\n",
              "      document.body.appendChild(element);\n",
              "    }\n",
              "\n",
              "    var skip = [];\n",
              "    if (window.requirejs) {\n",
              "      window.requirejs.config({'packages': {}, 'paths': {'gridstack': 'https://cdn.jsdelivr.net/npm/gridstack@4.2.5/dist/gridstack-h5', 'notyf': 'https://cdn.jsdelivr.net/npm/notyf@3/notyf.min'}, 'shim': {'gridstack': {'exports': 'GridStack'}}});\n",
              "      require([\"gridstack\"], function(GridStack) {\n",
              "\twindow.GridStack = GridStack\n",
              "\ton_load()\n",
              "      })\n",
              "      require([\"notyf\"], function() {\n",
              "\ton_load()\n",
              "      })\n",
              "      root._bokeh_is_loading = css_urls.length + 2;\n",
              "    } else {\n",
              "      root._bokeh_is_loading = css_urls.length + js_urls.length + js_modules.length;\n",
              "    }    if (((window['GridStack'] !== undefined) && (!(window['GridStack'] instanceof HTMLElement))) || window.requirejs) {\n",
              "      var urls = ['https://cdn.holoviz.org/panel/0.14.4/dist/bundled/gridstack/gridstack@4.2.5/dist/gridstack-h5.js'];\n",
              "      for (var i = 0; i < urls.length; i++) {\n",
              "        skip.push(urls[i])\n",
              "      }\n",
              "    }    if (((window['Notyf'] !== undefined) && (!(window['Notyf'] instanceof HTMLElement))) || window.requirejs) {\n",
              "      var urls = ['https://cdn.holoviz.org/panel/0.14.4/dist/bundled/notificationarea/notyf@3/notyf.min.js'];\n",
              "      for (var i = 0; i < urls.length; i++) {\n",
              "        skip.push(urls[i])\n",
              "      }\n",
              "    }    for (var i = 0; i < js_urls.length; i++) {\n",
              "      var url = js_urls[i];\n",
              "      if (skip.indexOf(url) >= 0) {\n",
              "\tif (!window.requirejs) {\n",
              "\t  on_load();\n",
              "\t}\n",
              "\tcontinue;\n",
              "      }\n",
              "      var element = document.createElement('script');\n",
              "      element.onload = on_load;\n",
              "      element.onerror = on_error;\n",
              "      element.async = false;\n",
              "      element.src = url;\n",
              "      console.debug(\"Bokeh: injecting script tag for BokehJS library: \", url);\n",
              "      document.head.appendChild(element);\n",
              "    }\n",
              "    for (var i = 0; i < js_modules.length; i++) {\n",
              "      var url = js_modules[i];\n",
              "      if (skip.indexOf(url) >= 0) {\n",
              "\tif (!window.requirejs) {\n",
              "\t  on_load();\n",
              "\t}\n",
              "\tcontinue;\n",
              "      }\n",
              "      var element = document.createElement('script');\n",
              "      element.onload = on_load;\n",
              "      element.onerror = on_error;\n",
              "      element.async = false;\n",
              "      element.src = url;\n",
              "      element.type = \"module\";\n",
              "      console.debug(\"Bokeh: injecting script tag for BokehJS library: \", url);\n",
              "      document.head.appendChild(element);\n",
              "    }\n",
              "    if (!js_urls.length && !js_modules.length) {\n",
              "      on_load()\n",
              "    }\n",
              "  };\n",
              "\n",
              "  function inject_raw_css(css) {\n",
              "    const element = document.createElement(\"style\");\n",
              "    element.appendChild(document.createTextNode(css));\n",
              "    document.body.appendChild(element);\n",
              "  }\n",
              "\n",
              "  var js_urls = [\"https://cdn.bokeh.org/bokeh/release/bokeh-2.4.3.min.js\", \"https://cdn.bokeh.org/bokeh/release/bokeh-gl-2.4.3.min.js\", \"https://cdn.bokeh.org/bokeh/release/bokeh-widgets-2.4.3.min.js\", \"https://cdn.bokeh.org/bokeh/release/bokeh-tables-2.4.3.min.js\", \"https://cdn.bokeh.org/bokeh/release/bokeh-mathjax-2.4.3.min.js\", \"https://unpkg.com/@holoviz/panel@0.14.4/dist/panel.min.js\"];\n",
              "  var js_modules = [];\n",
              "  var css_urls = [\"https://cdn.holoviz.org/panel/0.14.4/dist/css/dataframe.css\", \"https://cdn.holoviz.org/panel/0.14.4/dist/css/widgets.css\", \"https://cdn.holoviz.org/panel/0.14.4/dist/css/debugger.css\", \"https://cdn.holoviz.org/panel/0.14.4/dist/css/card.css\", \"https://cdn.holoviz.org/panel/0.14.4/dist/css/alerts.css\", \"https://cdn.holoviz.org/panel/0.14.4/dist/css/json.css\", \"https://cdn.holoviz.org/panel/0.14.4/dist/css/markdown.css\", \"https://cdn.holoviz.org/panel/0.14.4/dist/css/loading.css\"];\n",
              "  var inline_js = [    function(Bokeh) {\n",
              "      inject_raw_css(\"\\n    .bk.pn-loading.arc:before {\\n      background-image: url(\\\"data:image/svg+xml;base64,PHN2ZyB4bWxucz0iaHR0cDovL3d3dy53My5vcmcvMjAwMC9zdmciIHN0eWxlPSJtYXJnaW46IGF1dG87IGJhY2tncm91bmQ6IG5vbmU7IGRpc3BsYXk6IGJsb2NrOyBzaGFwZS1yZW5kZXJpbmc6IGF1dG87IiB2aWV3Qm94PSIwIDAgMTAwIDEwMCIgcHJlc2VydmVBc3BlY3RSYXRpbz0ieE1pZFlNaWQiPiAgPGNpcmNsZSBjeD0iNTAiIGN5PSI1MCIgZmlsbD0ibm9uZSIgc3Ryb2tlPSIjYzNjM2MzIiBzdHJva2Utd2lkdGg9IjEwIiByPSIzNSIgc3Ryb2tlLWRhc2hhcnJheT0iMTY0LjkzMzYxNDMxMzQ2NDE1IDU2Ljk3Nzg3MTQzNzgyMTM4Ij4gICAgPGFuaW1hdGVUcmFuc2Zvcm0gYXR0cmlidXRlTmFtZT0idHJhbnNmb3JtIiB0eXBlPSJyb3RhdGUiIHJlcGVhdENvdW50PSJpbmRlZmluaXRlIiBkdXI9IjFzIiB2YWx1ZXM9IjAgNTAgNTA7MzYwIDUwIDUwIiBrZXlUaW1lcz0iMDsxIj48L2FuaW1hdGVUcmFuc2Zvcm0+ICA8L2NpcmNsZT48L3N2Zz4=\\\");\\n      background-size: auto calc(min(50%, 400px));\\n    }\\n    \");\n",
              "    },    function(Bokeh) {\n",
              "      Bokeh.set_log_level(\"info\");\n",
              "    },\n",
              "function(Bokeh) {} // ensure no trailing comma for IE\n",
              "  ];\n",
              "\n",
              "  function run_inline_js() {\n",
              "    if ((root.Bokeh !== undefined) || (force === true)) {\n",
              "      for (var i = 0; i < inline_js.length; i++) {\n",
              "        inline_js[i].call(root, root.Bokeh);\n",
              "      }} else if (Date.now() < root._bokeh_timeout) {\n",
              "      setTimeout(run_inline_js, 100);\n",
              "    } else if (!root._bokeh_failed_load) {\n",
              "      console.log(\"Bokeh: BokehJS failed to load within specified timeout.\");\n",
              "      root._bokeh_failed_load = true;\n",
              "    }\n",
              "  }\n",
              "\n",
              "  if (root._bokeh_is_loading === 0) {\n",
              "    console.debug(\"Bokeh: BokehJS loaded, going straight to plotting\");\n",
              "    run_inline_js();\n",
              "  } else {\n",
              "    load_libs(css_urls, js_urls, js_modules, function() {\n",
              "      console.debug(\"Bokeh: BokehJS plotting callback run at\", now());\n",
              "      run_inline_js();\n",
              "    });\n",
              "  }\n",
              "}(window));"
            ],
            "application/vnd.holoviews_load.v0+json": "(function(root) {\n  function now() {\n    return new Date();\n  }\n\n  var force = true;\n\n  if (typeof root._bokeh_onload_callbacks === \"undefined\" || force === true) {\n    root._bokeh_onload_callbacks = [];\n    root._bokeh_is_loading = undefined;\n  }\n\n  if (typeof (root._bokeh_timeout) === \"undefined\" || force === true) {\n    root._bokeh_timeout = Date.now() + 5000;\n    root._bokeh_failed_load = false;\n  }\n\n  function run_callbacks() {\n    try {\n      root._bokeh_onload_callbacks.forEach(function(callback) {\n        if (callback != null)\n          callback();\n      });\n    } finally {\n      delete root._bokeh_onload_callbacks\n    }\n    console.debug(\"Bokeh: all callbacks have finished\");\n  }\n\n  function load_libs(css_urls, js_urls, js_modules, callback) {\n    if (css_urls == null) css_urls = [];\n    if (js_urls == null) js_urls = [];\n    if (js_modules == null) js_modules = [];\n\n    root._bokeh_onload_callbacks.push(callback);\n    if (root._bokeh_is_loading > 0) {\n      console.debug(\"Bokeh: BokehJS is being loaded, scheduling callback at\", now());\n      return null;\n    }\n    if (js_urls.length === 0 && js_modules.length === 0) {\n      run_callbacks();\n      return null;\n    }\n    console.debug(\"Bokeh: BokehJS not loaded, scheduling load and callback at\", now());\n\n    function on_load() {\n      root._bokeh_is_loading--;\n      if (root._bokeh_is_loading === 0) {\n        console.debug(\"Bokeh: all BokehJS libraries/stylesheets loaded\");\n        run_callbacks()\n      }\n    }\n\n    function on_error() {\n      console.error(\"failed to load \" + url);\n    }\n\n    for (var i = 0; i < css_urls.length; i++) {\n      var url = css_urls[i];\n      const element = document.createElement(\"link\");\n      element.onload = on_load;\n      element.onerror = on_error;\n      element.rel = \"stylesheet\";\n      element.type = \"text/css\";\n      element.href = url;\n      console.debug(\"Bokeh: injecting link tag for BokehJS stylesheet: \", url);\n      document.body.appendChild(element);\n    }\n\n    var skip = [];\n    if (window.requirejs) {\n      window.requirejs.config({'packages': {}, 'paths': {'gridstack': 'https://cdn.jsdelivr.net/npm/gridstack@4.2.5/dist/gridstack-h5', 'notyf': 'https://cdn.jsdelivr.net/npm/notyf@3/notyf.min'}, 'shim': {'gridstack': {'exports': 'GridStack'}}});\n      require([\"gridstack\"], function(GridStack) {\n\twindow.GridStack = GridStack\n\ton_load()\n      })\n      require([\"notyf\"], function() {\n\ton_load()\n      })\n      root._bokeh_is_loading = css_urls.length + 2;\n    } else {\n      root._bokeh_is_loading = css_urls.length + js_urls.length + js_modules.length;\n    }    if (((window['GridStack'] !== undefined) && (!(window['GridStack'] instanceof HTMLElement))) || window.requirejs) {\n      var urls = ['https://cdn.holoviz.org/panel/0.14.4/dist/bundled/gridstack/gridstack@4.2.5/dist/gridstack-h5.js'];\n      for (var i = 0; i < urls.length; i++) {\n        skip.push(urls[i])\n      }\n    }    if (((window['Notyf'] !== undefined) && (!(window['Notyf'] instanceof HTMLElement))) || window.requirejs) {\n      var urls = ['https://cdn.holoviz.org/panel/0.14.4/dist/bundled/notificationarea/notyf@3/notyf.min.js'];\n      for (var i = 0; i < urls.length; i++) {\n        skip.push(urls[i])\n      }\n    }    for (var i = 0; i < js_urls.length; i++) {\n      var url = js_urls[i];\n      if (skip.indexOf(url) >= 0) {\n\tif (!window.requirejs) {\n\t  on_load();\n\t}\n\tcontinue;\n      }\n      var element = document.createElement('script');\n      element.onload = on_load;\n      element.onerror = on_error;\n      element.async = false;\n      element.src = url;\n      console.debug(\"Bokeh: injecting script tag for BokehJS library: \", url);\n      document.head.appendChild(element);\n    }\n    for (var i = 0; i < js_modules.length; i++) {\n      var url = js_modules[i];\n      if (skip.indexOf(url) >= 0) {\n\tif (!window.requirejs) {\n\t  on_load();\n\t}\n\tcontinue;\n      }\n      var element = document.createElement('script');\n      element.onload = on_load;\n      element.onerror = on_error;\n      element.async = false;\n      element.src = url;\n      element.type = \"module\";\n      console.debug(\"Bokeh: injecting script tag for BokehJS library: \", url);\n      document.head.appendChild(element);\n    }\n    if (!js_urls.length && !js_modules.length) {\n      on_load()\n    }\n  };\n\n  function inject_raw_css(css) {\n    const element = document.createElement(\"style\");\n    element.appendChild(document.createTextNode(css));\n    document.body.appendChild(element);\n  }\n\n  var js_urls = [\"https://cdn.bokeh.org/bokeh/release/bokeh-2.4.3.min.js\", \"https://cdn.bokeh.org/bokeh/release/bokeh-gl-2.4.3.min.js\", \"https://cdn.bokeh.org/bokeh/release/bokeh-widgets-2.4.3.min.js\", \"https://cdn.bokeh.org/bokeh/release/bokeh-tables-2.4.3.min.js\", \"https://cdn.bokeh.org/bokeh/release/bokeh-mathjax-2.4.3.min.js\", \"https://unpkg.com/@holoviz/panel@0.14.4/dist/panel.min.js\"];\n  var js_modules = [];\n  var css_urls = [\"https://cdn.holoviz.org/panel/0.14.4/dist/css/dataframe.css\", \"https://cdn.holoviz.org/panel/0.14.4/dist/css/widgets.css\", \"https://cdn.holoviz.org/panel/0.14.4/dist/css/debugger.css\", \"https://cdn.holoviz.org/panel/0.14.4/dist/css/card.css\", \"https://cdn.holoviz.org/panel/0.14.4/dist/css/alerts.css\", \"https://cdn.holoviz.org/panel/0.14.4/dist/css/json.css\", \"https://cdn.holoviz.org/panel/0.14.4/dist/css/markdown.css\", \"https://cdn.holoviz.org/panel/0.14.4/dist/css/loading.css\"];\n  var inline_js = [    function(Bokeh) {\n      inject_raw_css(\"\\n    .bk.pn-loading.arc:before {\\n      background-image: url(\\\"data:image/svg+xml;base64,PHN2ZyB4bWxucz0iaHR0cDovL3d3dy53My5vcmcvMjAwMC9zdmciIHN0eWxlPSJtYXJnaW46IGF1dG87IGJhY2tncm91bmQ6IG5vbmU7IGRpc3BsYXk6IGJsb2NrOyBzaGFwZS1yZW5kZXJpbmc6IGF1dG87IiB2aWV3Qm94PSIwIDAgMTAwIDEwMCIgcHJlc2VydmVBc3BlY3RSYXRpbz0ieE1pZFlNaWQiPiAgPGNpcmNsZSBjeD0iNTAiIGN5PSI1MCIgZmlsbD0ibm9uZSIgc3Ryb2tlPSIjYzNjM2MzIiBzdHJva2Utd2lkdGg9IjEwIiByPSIzNSIgc3Ryb2tlLWRhc2hhcnJheT0iMTY0LjkzMzYxNDMxMzQ2NDE1IDU2Ljk3Nzg3MTQzNzgyMTM4Ij4gICAgPGFuaW1hdGVUcmFuc2Zvcm0gYXR0cmlidXRlTmFtZT0idHJhbnNmb3JtIiB0eXBlPSJyb3RhdGUiIHJlcGVhdENvdW50PSJpbmRlZmluaXRlIiBkdXI9IjFzIiB2YWx1ZXM9IjAgNTAgNTA7MzYwIDUwIDUwIiBrZXlUaW1lcz0iMDsxIj48L2FuaW1hdGVUcmFuc2Zvcm0+ICA8L2NpcmNsZT48L3N2Zz4=\\\");\\n      background-size: auto calc(min(50%, 400px));\\n    }\\n    \");\n    },    function(Bokeh) {\n      Bokeh.set_log_level(\"info\");\n    },\nfunction(Bokeh) {} // ensure no trailing comma for IE\n  ];\n\n  function run_inline_js() {\n    if ((root.Bokeh !== undefined) || (force === true)) {\n      for (var i = 0; i < inline_js.length; i++) {\n        inline_js[i].call(root, root.Bokeh);\n      }} else if (Date.now() < root._bokeh_timeout) {\n      setTimeout(run_inline_js, 100);\n    } else if (!root._bokeh_failed_load) {\n      console.log(\"Bokeh: BokehJS failed to load within specified timeout.\");\n      root._bokeh_failed_load = true;\n    }\n  }\n\n  if (root._bokeh_is_loading === 0) {\n    console.debug(\"Bokeh: BokehJS loaded, going straight to plotting\");\n    run_inline_js();\n  } else {\n    load_libs(css_urls, js_urls, js_modules, function() {\n      console.debug(\"Bokeh: BokehJS plotting callback run at\", now());\n      run_inline_js();\n    });\n  }\n}(window));"
          },
          "metadata": {}
        },
        {
          "output_type": "display_data",
          "data": {
            "application/vnd.holoviews_load.v0+json": "\nif ((window.PyViz === undefined) || (window.PyViz instanceof HTMLElement)) {\n  window.PyViz = {comms: {}, comm_status:{}, kernels:{}, receivers: {}, plot_index: []}\n}\n\n\n    function JupyterCommManager() {\n    }\n\n    JupyterCommManager.prototype.register_target = function(plot_id, comm_id, msg_handler) {\n      if (window.comm_manager || ((window.Jupyter !== undefined) && (Jupyter.notebook.kernel != null))) {\n        var comm_manager = window.comm_manager || Jupyter.notebook.kernel.comm_manager;\n        comm_manager.register_target(comm_id, function(comm) {\n          comm.on_msg(msg_handler);\n        });\n      } else if ((plot_id in window.PyViz.kernels) && (window.PyViz.kernels[plot_id])) {\n        window.PyViz.kernels[plot_id].registerCommTarget(comm_id, function(comm) {\n          comm.onMsg = msg_handler;\n        });\n      } else if (typeof google != 'undefined' && google.colab.kernel != null) {\n        google.colab.kernel.comms.registerTarget(comm_id, (comm) => {\n          var messages = comm.messages[Symbol.asyncIterator]();\n          function processIteratorResult(result) {\n            var message = result.value;\n            console.log(message)\n            var content = {data: message.data, comm_id};\n            var buffers = []\n            for (var buffer of message.buffers || []) {\n              buffers.push(new DataView(buffer))\n            }\n            var metadata = message.metadata || {};\n            var msg = {content, buffers, metadata}\n            msg_handler(msg);\n            return messages.next().then(processIteratorResult);\n          }\n          return messages.next().then(processIteratorResult);\n        })\n      }\n    }\n\n    JupyterCommManager.prototype.get_client_comm = function(plot_id, comm_id, msg_handler) {\n      if (comm_id in window.PyViz.comms) {\n        return window.PyViz.comms[comm_id];\n      } else if (window.comm_manager || ((window.Jupyter !== undefined) && (Jupyter.notebook.kernel != null))) {\n        var comm_manager = window.comm_manager || Jupyter.notebook.kernel.comm_manager;\n        var comm = comm_manager.new_comm(comm_id, {}, {}, {}, comm_id);\n        if (msg_handler) {\n          comm.on_msg(msg_handler);\n        }\n      } else if ((plot_id in window.PyViz.kernels) && (window.PyViz.kernels[plot_id])) {\n        var comm = window.PyViz.kernels[plot_id].connectToComm(comm_id);\n        comm.open();\n        if (msg_handler) {\n          comm.onMsg = msg_handler;\n        }\n      } else if (typeof google != 'undefined' && google.colab.kernel != null) {\n        var comm_promise = google.colab.kernel.comms.open(comm_id)\n        comm_promise.then((comm) => {\n          window.PyViz.comms[comm_id] = comm;\n          if (msg_handler) {\n            var messages = comm.messages[Symbol.asyncIterator]();\n            function processIteratorResult(result) {\n              var message = result.value;\n              var content = {data: message.data};\n              var metadata = message.metadata || {comm_id};\n              var msg = {content, metadata}\n              msg_handler(msg);\n              return messages.next().then(processIteratorResult);\n            }\n            return messages.next().then(processIteratorResult);\n          }\n        }) \n        var sendClosure = (data, metadata, buffers, disposeOnDone) => {\n          return comm_promise.then((comm) => {\n            comm.send(data, metadata, buffers, disposeOnDone);\n          });\n        };\n        var comm = {\n          send: sendClosure\n        };\n      }\n      window.PyViz.comms[comm_id] = comm;\n      return comm;\n    }\n    window.PyViz.comm_manager = new JupyterCommManager();\n    \n\n\nvar JS_MIME_TYPE = 'application/javascript';\nvar HTML_MIME_TYPE = 'text/html';\nvar EXEC_MIME_TYPE = 'application/vnd.holoviews_exec.v0+json';\nvar CLASS_NAME = 'output';\n\n/**\n * Render data to the DOM node\n */\nfunction render(props, node) {\n  var div = document.createElement(\"div\");\n  var script = document.createElement(\"script\");\n  node.appendChild(div);\n  node.appendChild(script);\n}\n\n/**\n * Handle when a new output is added\n */\nfunction handle_add_output(event, handle) {\n  var output_area = handle.output_area;\n  var output = handle.output;\n  if ((output.data == undefined) || (!output.data.hasOwnProperty(EXEC_MIME_TYPE))) {\n    return\n  }\n  var id = output.metadata[EXEC_MIME_TYPE][\"id\"];\n  var toinsert = output_area.element.find(\".\" + CLASS_NAME.split(' ')[0]);\n  if (id !== undefined) {\n    var nchildren = toinsert.length;\n    var html_node = toinsert[nchildren-1].children[0];\n    html_node.innerHTML = output.data[HTML_MIME_TYPE];\n    var scripts = [];\n    var nodelist = html_node.querySelectorAll(\"script\");\n    for (var i in nodelist) {\n      if (nodelist.hasOwnProperty(i)) {\n        scripts.push(nodelist[i])\n      }\n    }\n\n    scripts.forEach( function (oldScript) {\n      var newScript = document.createElement(\"script\");\n      var attrs = [];\n      var nodemap = oldScript.attributes;\n      for (var j in nodemap) {\n        if (nodemap.hasOwnProperty(j)) {\n          attrs.push(nodemap[j])\n        }\n      }\n      attrs.forEach(function(attr) { newScript.setAttribute(attr.name, attr.value) });\n      newScript.appendChild(document.createTextNode(oldScript.innerHTML));\n      oldScript.parentNode.replaceChild(newScript, oldScript);\n    });\n    if (JS_MIME_TYPE in output.data) {\n      toinsert[nchildren-1].children[1].textContent = output.data[JS_MIME_TYPE];\n    }\n    output_area._hv_plot_id = id;\n    if ((window.Bokeh !== undefined) && (id in Bokeh.index)) {\n      window.PyViz.plot_index[id] = Bokeh.index[id];\n    } else {\n      window.PyViz.plot_index[id] = null;\n    }\n  } else if (output.metadata[EXEC_MIME_TYPE][\"server_id\"] !== undefined) {\n    var bk_div = document.createElement(\"div\");\n    bk_div.innerHTML = output.data[HTML_MIME_TYPE];\n    var script_attrs = bk_div.children[0].attributes;\n    for (var i = 0; i < script_attrs.length; i++) {\n      toinsert[toinsert.length - 1].childNodes[1].setAttribute(script_attrs[i].name, script_attrs[i].value);\n    }\n    // store reference to server id on output_area\n    output_area._bokeh_server_id = output.metadata[EXEC_MIME_TYPE][\"server_id\"];\n  }\n}\n\n/**\n * Handle when an output is cleared or removed\n */\nfunction handle_clear_output(event, handle) {\n  var id = handle.cell.output_area._hv_plot_id;\n  var server_id = handle.cell.output_area._bokeh_server_id;\n  if (((id === undefined) || !(id in PyViz.plot_index)) && (server_id !== undefined)) { return; }\n  var comm = window.PyViz.comm_manager.get_client_comm(\"hv-extension-comm\", \"hv-extension-comm\", function () {});\n  if (server_id !== null) {\n    comm.send({event_type: 'server_delete', 'id': server_id});\n    return;\n  } else if (comm !== null) {\n    comm.send({event_type: 'delete', 'id': id});\n  }\n  delete PyViz.plot_index[id];\n  if ((window.Bokeh !== undefined) & (id in window.Bokeh.index)) {\n    var doc = window.Bokeh.index[id].model.document\n    doc.clear();\n    const i = window.Bokeh.documents.indexOf(doc);\n    if (i > -1) {\n      window.Bokeh.documents.splice(i, 1);\n    }\n  }\n}\n\n/**\n * Handle kernel restart event\n */\nfunction handle_kernel_cleanup(event, handle) {\n  delete PyViz.comms[\"hv-extension-comm\"];\n  window.PyViz.plot_index = {}\n}\n\n/**\n * Handle update_display_data messages\n */\nfunction handle_update_output(event, handle) {\n  handle_clear_output(event, {cell: {output_area: handle.output_area}})\n  handle_add_output(event, handle)\n}\n\nfunction register_renderer(events, OutputArea) {\n  function append_mime(data, metadata, element) {\n    // create a DOM node to render to\n    var toinsert = this.create_output_subarea(\n    metadata,\n    CLASS_NAME,\n    EXEC_MIME_TYPE\n    );\n    this.keyboard_manager.register_events(toinsert);\n    // Render to node\n    var props = {data: data, metadata: metadata[EXEC_MIME_TYPE]};\n    render(props, toinsert[0]);\n    element.append(toinsert);\n    return toinsert\n  }\n\n  events.on('output_added.OutputArea', handle_add_output);\n  events.on('output_updated.OutputArea', handle_update_output);\n  events.on('clear_output.CodeCell', handle_clear_output);\n  events.on('delete.Cell', handle_clear_output);\n  events.on('kernel_ready.Kernel', handle_kernel_cleanup);\n\n  OutputArea.prototype.register_mime_type(EXEC_MIME_TYPE, append_mime, {\n    safe: true,\n    index: 0\n  });\n}\n\nif (window.Jupyter !== undefined) {\n  try {\n    var events = require('base/js/events');\n    var OutputArea = require('notebook/js/outputarea').OutputArea;\n    if (OutputArea.prototype.mime_types().indexOf(EXEC_MIME_TYPE) == -1) {\n      register_renderer(events, OutputArea);\n    }\n  } catch(err) {\n  }\n}\n",
            "application/javascript": [
              "\n",
              "if ((window.PyViz === undefined) || (window.PyViz instanceof HTMLElement)) {\n",
              "  window.PyViz = {comms: {}, comm_status:{}, kernels:{}, receivers: {}, plot_index: []}\n",
              "}\n",
              "\n",
              "\n",
              "    function JupyterCommManager() {\n",
              "    }\n",
              "\n",
              "    JupyterCommManager.prototype.register_target = function(plot_id, comm_id, msg_handler) {\n",
              "      if (window.comm_manager || ((window.Jupyter !== undefined) && (Jupyter.notebook.kernel != null))) {\n",
              "        var comm_manager = window.comm_manager || Jupyter.notebook.kernel.comm_manager;\n",
              "        comm_manager.register_target(comm_id, function(comm) {\n",
              "          comm.on_msg(msg_handler);\n",
              "        });\n",
              "      } else if ((plot_id in window.PyViz.kernels) && (window.PyViz.kernels[plot_id])) {\n",
              "        window.PyViz.kernels[plot_id].registerCommTarget(comm_id, function(comm) {\n",
              "          comm.onMsg = msg_handler;\n",
              "        });\n",
              "      } else if (typeof google != 'undefined' && google.colab.kernel != null) {\n",
              "        google.colab.kernel.comms.registerTarget(comm_id, (comm) => {\n",
              "          var messages = comm.messages[Symbol.asyncIterator]();\n",
              "          function processIteratorResult(result) {\n",
              "            var message = result.value;\n",
              "            console.log(message)\n",
              "            var content = {data: message.data, comm_id};\n",
              "            var buffers = []\n",
              "            for (var buffer of message.buffers || []) {\n",
              "              buffers.push(new DataView(buffer))\n",
              "            }\n",
              "            var metadata = message.metadata || {};\n",
              "            var msg = {content, buffers, metadata}\n",
              "            msg_handler(msg);\n",
              "            return messages.next().then(processIteratorResult);\n",
              "          }\n",
              "          return messages.next().then(processIteratorResult);\n",
              "        })\n",
              "      }\n",
              "    }\n",
              "\n",
              "    JupyterCommManager.prototype.get_client_comm = function(plot_id, comm_id, msg_handler) {\n",
              "      if (comm_id in window.PyViz.comms) {\n",
              "        return window.PyViz.comms[comm_id];\n",
              "      } else if (window.comm_manager || ((window.Jupyter !== undefined) && (Jupyter.notebook.kernel != null))) {\n",
              "        var comm_manager = window.comm_manager || Jupyter.notebook.kernel.comm_manager;\n",
              "        var comm = comm_manager.new_comm(comm_id, {}, {}, {}, comm_id);\n",
              "        if (msg_handler) {\n",
              "          comm.on_msg(msg_handler);\n",
              "        }\n",
              "      } else if ((plot_id in window.PyViz.kernels) && (window.PyViz.kernels[plot_id])) {\n",
              "        var comm = window.PyViz.kernels[plot_id].connectToComm(comm_id);\n",
              "        comm.open();\n",
              "        if (msg_handler) {\n",
              "          comm.onMsg = msg_handler;\n",
              "        }\n",
              "      } else if (typeof google != 'undefined' && google.colab.kernel != null) {\n",
              "        var comm_promise = google.colab.kernel.comms.open(comm_id)\n",
              "        comm_promise.then((comm) => {\n",
              "          window.PyViz.comms[comm_id] = comm;\n",
              "          if (msg_handler) {\n",
              "            var messages = comm.messages[Symbol.asyncIterator]();\n",
              "            function processIteratorResult(result) {\n",
              "              var message = result.value;\n",
              "              var content = {data: message.data};\n",
              "              var metadata = message.metadata || {comm_id};\n",
              "              var msg = {content, metadata}\n",
              "              msg_handler(msg);\n",
              "              return messages.next().then(processIteratorResult);\n",
              "            }\n",
              "            return messages.next().then(processIteratorResult);\n",
              "          }\n",
              "        }) \n",
              "        var sendClosure = (data, metadata, buffers, disposeOnDone) => {\n",
              "          return comm_promise.then((comm) => {\n",
              "            comm.send(data, metadata, buffers, disposeOnDone);\n",
              "          });\n",
              "        };\n",
              "        var comm = {\n",
              "          send: sendClosure\n",
              "        };\n",
              "      }\n",
              "      window.PyViz.comms[comm_id] = comm;\n",
              "      return comm;\n",
              "    }\n",
              "    window.PyViz.comm_manager = new JupyterCommManager();\n",
              "    \n",
              "\n",
              "\n",
              "var JS_MIME_TYPE = 'application/javascript';\n",
              "var HTML_MIME_TYPE = 'text/html';\n",
              "var EXEC_MIME_TYPE = 'application/vnd.holoviews_exec.v0+json';\n",
              "var CLASS_NAME = 'output';\n",
              "\n",
              "/**\n",
              " * Render data to the DOM node\n",
              " */\n",
              "function render(props, node) {\n",
              "  var div = document.createElement(\"div\");\n",
              "  var script = document.createElement(\"script\");\n",
              "  node.appendChild(div);\n",
              "  node.appendChild(script);\n",
              "}\n",
              "\n",
              "/**\n",
              " * Handle when a new output is added\n",
              " */\n",
              "function handle_add_output(event, handle) {\n",
              "  var output_area = handle.output_area;\n",
              "  var output = handle.output;\n",
              "  if ((output.data == undefined) || (!output.data.hasOwnProperty(EXEC_MIME_TYPE))) {\n",
              "    return\n",
              "  }\n",
              "  var id = output.metadata[EXEC_MIME_TYPE][\"id\"];\n",
              "  var toinsert = output_area.element.find(\".\" + CLASS_NAME.split(' ')[0]);\n",
              "  if (id !== undefined) {\n",
              "    var nchildren = toinsert.length;\n",
              "    var html_node = toinsert[nchildren-1].children[0];\n",
              "    html_node.innerHTML = output.data[HTML_MIME_TYPE];\n",
              "    var scripts = [];\n",
              "    var nodelist = html_node.querySelectorAll(\"script\");\n",
              "    for (var i in nodelist) {\n",
              "      if (nodelist.hasOwnProperty(i)) {\n",
              "        scripts.push(nodelist[i])\n",
              "      }\n",
              "    }\n",
              "\n",
              "    scripts.forEach( function (oldScript) {\n",
              "      var newScript = document.createElement(\"script\");\n",
              "      var attrs = [];\n",
              "      var nodemap = oldScript.attributes;\n",
              "      for (var j in nodemap) {\n",
              "        if (nodemap.hasOwnProperty(j)) {\n",
              "          attrs.push(nodemap[j])\n",
              "        }\n",
              "      }\n",
              "      attrs.forEach(function(attr) { newScript.setAttribute(attr.name, attr.value) });\n",
              "      newScript.appendChild(document.createTextNode(oldScript.innerHTML));\n",
              "      oldScript.parentNode.replaceChild(newScript, oldScript);\n",
              "    });\n",
              "    if (JS_MIME_TYPE in output.data) {\n",
              "      toinsert[nchildren-1].children[1].textContent = output.data[JS_MIME_TYPE];\n",
              "    }\n",
              "    output_area._hv_plot_id = id;\n",
              "    if ((window.Bokeh !== undefined) && (id in Bokeh.index)) {\n",
              "      window.PyViz.plot_index[id] = Bokeh.index[id];\n",
              "    } else {\n",
              "      window.PyViz.plot_index[id] = null;\n",
              "    }\n",
              "  } else if (output.metadata[EXEC_MIME_TYPE][\"server_id\"] !== undefined) {\n",
              "    var bk_div = document.createElement(\"div\");\n",
              "    bk_div.innerHTML = output.data[HTML_MIME_TYPE];\n",
              "    var script_attrs = bk_div.children[0].attributes;\n",
              "    for (var i = 0; i < script_attrs.length; i++) {\n",
              "      toinsert[toinsert.length - 1].childNodes[1].setAttribute(script_attrs[i].name, script_attrs[i].value);\n",
              "    }\n",
              "    // store reference to server id on output_area\n",
              "    output_area._bokeh_server_id = output.metadata[EXEC_MIME_TYPE][\"server_id\"];\n",
              "  }\n",
              "}\n",
              "\n",
              "/**\n",
              " * Handle when an output is cleared or removed\n",
              " */\n",
              "function handle_clear_output(event, handle) {\n",
              "  var id = handle.cell.output_area._hv_plot_id;\n",
              "  var server_id = handle.cell.output_area._bokeh_server_id;\n",
              "  if (((id === undefined) || !(id in PyViz.plot_index)) && (server_id !== undefined)) { return; }\n",
              "  var comm = window.PyViz.comm_manager.get_client_comm(\"hv-extension-comm\", \"hv-extension-comm\", function () {});\n",
              "  if (server_id !== null) {\n",
              "    comm.send({event_type: 'server_delete', 'id': server_id});\n",
              "    return;\n",
              "  } else if (comm !== null) {\n",
              "    comm.send({event_type: 'delete', 'id': id});\n",
              "  }\n",
              "  delete PyViz.plot_index[id];\n",
              "  if ((window.Bokeh !== undefined) & (id in window.Bokeh.index)) {\n",
              "    var doc = window.Bokeh.index[id].model.document\n",
              "    doc.clear();\n",
              "    const i = window.Bokeh.documents.indexOf(doc);\n",
              "    if (i > -1) {\n",
              "      window.Bokeh.documents.splice(i, 1);\n",
              "    }\n",
              "  }\n",
              "}\n",
              "\n",
              "/**\n",
              " * Handle kernel restart event\n",
              " */\n",
              "function handle_kernel_cleanup(event, handle) {\n",
              "  delete PyViz.comms[\"hv-extension-comm\"];\n",
              "  window.PyViz.plot_index = {}\n",
              "}\n",
              "\n",
              "/**\n",
              " * Handle update_display_data messages\n",
              " */\n",
              "function handle_update_output(event, handle) {\n",
              "  handle_clear_output(event, {cell: {output_area: handle.output_area}})\n",
              "  handle_add_output(event, handle)\n",
              "}\n",
              "\n",
              "function register_renderer(events, OutputArea) {\n",
              "  function append_mime(data, metadata, element) {\n",
              "    // create a DOM node to render to\n",
              "    var toinsert = this.create_output_subarea(\n",
              "    metadata,\n",
              "    CLASS_NAME,\n",
              "    EXEC_MIME_TYPE\n",
              "    );\n",
              "    this.keyboard_manager.register_events(toinsert);\n",
              "    // Render to node\n",
              "    var props = {data: data, metadata: metadata[EXEC_MIME_TYPE]};\n",
              "    render(props, toinsert[0]);\n",
              "    element.append(toinsert);\n",
              "    return toinsert\n",
              "  }\n",
              "\n",
              "  events.on('output_added.OutputArea', handle_add_output);\n",
              "  events.on('output_updated.OutputArea', handle_update_output);\n",
              "  events.on('clear_output.CodeCell', handle_clear_output);\n",
              "  events.on('delete.Cell', handle_clear_output);\n",
              "  events.on('kernel_ready.Kernel', handle_kernel_cleanup);\n",
              "\n",
              "  OutputArea.prototype.register_mime_type(EXEC_MIME_TYPE, append_mime, {\n",
              "    safe: true,\n",
              "    index: 0\n",
              "  });\n",
              "}\n",
              "\n",
              "if (window.Jupyter !== undefined) {\n",
              "  try {\n",
              "    var events = require('base/js/events');\n",
              "    var OutputArea = require('notebook/js/outputarea').OutputArea;\n",
              "    if (OutputArea.prototype.mime_types().indexOf(EXEC_MIME_TYPE) == -1) {\n",
              "      register_renderer(events, OutputArea);\n",
              "    }\n",
              "  } catch(err) {\n",
              "  }\n",
              "}\n"
            ]
          },
          "metadata": {}
        },
        {
          "output_type": "display_data",
          "data": {
            "text/html": [
              "<style>.bk-root, .bk-root .bk:before, .bk-root .bk:after {\n",
              "  font-family: var(--jp-ui-font-size1);\n",
              "  font-size: var(--jp-ui-font-size1);\n",
              "  color: var(--jp-ui-font-color1);\n",
              "}\n",
              "</style>"
            ]
          },
          "metadata": {}
        },
        {
          "output_type": "display_data",
          "data": {},
          "metadata": {}
        },
        {
          "output_type": "execute_result",
          "data": {
            "text/html": [
              "<div id='1296'>\n",
              "  <div class=\"bk-root\" id=\"5402cc3f-3e24-4d31-8ea0-9cdf548edea0\" data-root-id=\"1296\"></div>\n",
              "</div>\n",
              "<script type=\"application/javascript\">(function(root) {\n",
              "  function embed_document(root) {\n",
              "    var docs_json = {\"957316a4-fae6-4d17-ad04-25aceada5355\":{\"defs\":[{\"extends\":null,\"module\":null,\"name\":\"ReactiveHTML1\",\"overrides\":[],\"properties\":[]},{\"extends\":null,\"module\":null,\"name\":\"FlexBox1\",\"overrides\":[],\"properties\":[{\"default\":\"flex-start\",\"kind\":null,\"name\":\"align_content\"},{\"default\":\"flex-start\",\"kind\":null,\"name\":\"align_items\"},{\"default\":\"row\",\"kind\":null,\"name\":\"flex_direction\"},{\"default\":\"wrap\",\"kind\":null,\"name\":\"flex_wrap\"},{\"default\":\"flex-start\",\"kind\":null,\"name\":\"justify_content\"}]},{\"extends\":null,\"module\":null,\"name\":\"GridStack1\",\"overrides\":[],\"properties\":[{\"default\":\"warn\",\"kind\":null,\"name\":\"mode\"},{\"default\":null,\"kind\":null,\"name\":\"ncols\"},{\"default\":null,\"kind\":null,\"name\":\"nrows\"},{\"default\":true,\"kind\":null,\"name\":\"allow_resize\"},{\"default\":true,\"kind\":null,\"name\":\"allow_drag\"},{\"default\":[],\"kind\":null,\"name\":\"state\"}]},{\"extends\":null,\"module\":null,\"name\":\"click1\",\"overrides\":[],\"properties\":[{\"default\":\"\",\"kind\":null,\"name\":\"terminal_output\"},{\"default\":\"\",\"kind\":null,\"name\":\"debug_name\"},{\"default\":0,\"kind\":null,\"name\":\"clears\"}]},{\"extends\":null,\"module\":null,\"name\":\"NotificationAreaBase1\",\"overrides\":[],\"properties\":[{\"default\":\"bottom-right\",\"kind\":null,\"name\":\"position\"},{\"default\":0,\"kind\":null,\"name\":\"_clear\"}]},{\"extends\":null,\"module\":null,\"name\":\"NotificationArea1\",\"overrides\":[],\"properties\":[{\"default\":[],\"kind\":null,\"name\":\"notifications\"},{\"default\":\"bottom-right\",\"kind\":null,\"name\":\"position\"},{\"default\":0,\"kind\":null,\"name\":\"_clear\"},{\"default\":[{\"background\":\"#ffc107\",\"icon\":{\"className\":\"fas fa-exclamation-triangle\",\"color\":\"white\",\"tagName\":\"i\"},\"type\":\"warning\"},{\"background\":\"#007bff\",\"icon\":{\"className\":\"fas fa-info-circle\",\"color\":\"white\",\"tagName\":\"i\"},\"type\":\"info\"}],\"kind\":null,\"name\":\"types\"}]},{\"extends\":null,\"module\":null,\"name\":\"Notification\",\"overrides\":[],\"properties\":[{\"default\":null,\"kind\":null,\"name\":\"background\"},{\"default\":3000,\"kind\":null,\"name\":\"duration\"},{\"default\":null,\"kind\":null,\"name\":\"icon\"},{\"default\":\"\",\"kind\":null,\"name\":\"message\"},{\"default\":null,\"kind\":null,\"name\":\"notification_type\"},{\"default\":false,\"kind\":null,\"name\":\"_destroyed\"}]},{\"extends\":null,\"module\":null,\"name\":\"TemplateActions1\",\"overrides\":[],\"properties\":[{\"default\":0,\"kind\":null,\"name\":\"open_modal\"},{\"default\":0,\"kind\":null,\"name\":\"close_modal\"}]},{\"extends\":null,\"module\":null,\"name\":\"MaterialTemplateActions1\",\"overrides\":[],\"properties\":[{\"default\":0,\"kind\":null,\"name\":\"open_modal\"},{\"default\":0,\"kind\":null,\"name\":\"close_modal\"}]}],\"roots\":{\"references\":[{\"attributes\":{\"css_classes\":[\"markdown\"],\"margin\":[5,5,5,5],\"name\":\"Markdown00348\",\"text\":\"&lt;p&gt;Assistant:&lt;/p&gt;\"},\"id\":\"1306\",\"type\":\"panel.models.markup.HTML\"},{\"attributes\":{\"children\":[{\"id\":\"1297\"},{\"id\":\"1298\"},{\"id\":\"1300\"}],\"margin\":[0,0,0,0],\"name\":\"Column00353\"},\"id\":\"1296\",\"type\":\"Column\"},{\"attributes\":{\"children\":[{\"id\":\"1301\"}],\"height\":300,\"margin\":[0,0,0,0],\"min_height\":300,\"name\":\"Row00339\"},\"id\":\"1300\",\"type\":\"Row\"},{\"attributes\":{\"args\":{\"bidirectional\":false,\"properties\":{\"event:button_click\":\"loading\"},\"source\":{\"id\":\"1299\"},\"target\":{\"id\":\"1300\"}},\"code\":\"\\n    if ('event:button_click'.startsWith('event:')) {\\n      var value = true\\n    } else {\\n      var value = source['event:button_click'];\\n      value = value;\\n    }\\n    if (typeof value !== 'boolean' || source.labels !== ['Loading']) {\\n      value = true\\n    }\\n    var css_classes = target.css_classes.slice()\\n    var loading_css = ['pn-loading', 'arc']\\n    if (value) {\\n      for (var css of loading_css) {\\n        if (!(css in css_classes)) {\\n          css_classes.push(css)\\n        }\\n      }\\n    } else {\\n     for (var css of loading_css) {\\n        var index = css_classes.indexOf(css)\\n        if (index > -1) {\\n          css_classes.splice(index, 1)\\n        }\\n      }\\n    }\\n    target['css_classes'] = css_classes\\n    \",\"tags\":[[140668406249456,[null,\"event:button_click\"],[null,\"loading\"]]]},\"id\":\"1308\",\"type\":\"CustomJS\"},{\"attributes\":{\"css_classes\":[\"markdown\"],\"margin\":[5,5,5,5],\"name\":\"Markdown00343\",\"text\":\"&lt;p&gt;User:&lt;/p&gt;\"},\"id\":\"1303\",\"type\":\"panel.models.markup.HTML\"},{\"attributes\":{\"client_comm_id\":\"4d84606d0b43476da10c58015b899c92\",\"comm_id\":\"f97cc04a0322463294a7e9628656335a\",\"plot_id\":\"1296\"},\"id\":\"1309\",\"type\":\"panel.models.comm_manager.CommManager\"},{\"attributes\":{\"children\":[{\"id\":\"1302\"},{\"id\":\"1305\"}],\"margin\":[0,0,0,0],\"name\":\"Column00351\"},\"id\":\"1301\",\"type\":\"Column\"},{\"attributes\":{\"css_classes\":[\"markdown\"],\"margin\":[5,5,5,5],\"name\":\"Markdown00346\",\"style\":{\"background-color\":\"#925D0B\"},\"text\":\"&lt;p&gt;Hello! Welcome to our insurance guidance service. How may I assist you?&lt;/p&gt;\",\"width\":1000},\"id\":\"1307\",\"type\":\"panel.models.markup.HTML\"},{\"attributes\":{\"children\":[{\"id\":\"1303\"},{\"id\":\"1304\"}],\"margin\":[0,0,0,0],\"name\":\"Row00345\"},\"id\":\"1302\",\"type\":\"Row\"},{\"attributes\":{\"icon\":null,\"js_event_callbacks\":{\"button_click\":[{\"id\":\"1308\"}]},\"label\":\"Ask me\",\"margin\":[5,10,5,10],\"subscribed_events\":[\"button_click\"]},\"id\":\"1299\",\"type\":\"Button\"},{\"attributes\":{\"children\":[{\"id\":\"1299\"}],\"margin\":[0,0,0,0],\"name\":\"Row00334\"},\"id\":\"1298\",\"type\":\"Row\"},{\"attributes\":{\"margin\":[5,10,5,10],\"max_length\":5000,\"placeholder\":\"Please enter your message here\\u2026\"},\"id\":\"1297\",\"type\":\"TextInput\"},{\"attributes\":{\"children\":[{\"id\":\"1306\"},{\"id\":\"1307\"}],\"margin\":[0,0,0,0],\"name\":\"Row00350\"},\"id\":\"1305\",\"type\":\"Row\"},{\"attributes\":{\"css_classes\":[\"markdown\"],\"margin\":[5,5,5,5],\"name\":\"Markdown00341\",\"width\":1000},\"id\":\"1304\",\"type\":\"panel.models.markup.HTML\"}],\"root_ids\":[\"1296\",\"1309\"]},\"title\":\"Bokeh Application\",\"version\":\"2.4.3\"}};\n",
              "    var render_items = [{\"docid\":\"957316a4-fae6-4d17-ad04-25aceada5355\",\"root_ids\":[\"1296\"],\"roots\":{\"1296\":\"5402cc3f-3e24-4d31-8ea0-9cdf548edea0\"}}];\n",
              "    root.Bokeh.embed.embed_items_notebook(docs_json, render_items);\n",
              "    for (const render_item of render_items) {\n",
              "      for (const root_id of render_item.root_ids) {\n",
              "\tconst id_el = document.getElementById(root_id)\n",
              "\tif (id_el.children.length && (id_el.children[0].className === 'bk-root')) {\n",
              "\t  const root_el = id_el.children[0]\n",
              "\t  root_el.id = root_el.id + '-rendered'\n",
              "\t}\n",
              "      }\n",
              "    }\n",
              "  }\n",
              "  if (root.Bokeh !== undefined && root.Bokeh.Panel !== undefined) {\n",
              "    embed_document(root);\n",
              "  } else {\n",
              "    var attempts = 0;\n",
              "    var timer = setInterval(function(root) {\n",
              "      if (root.Bokeh !== undefined && root.Bokeh.Panel !== undefined) {\n",
              "        clearInterval(timer);\n",
              "        embed_document(root);\n",
              "      } else if (document.readyState == \"complete\") {\n",
              "        attempts++;\n",
              "        if (attempts > 200) {\n",
              "          clearInterval(timer);\n",
              "          console.log(\"Bokeh: ERROR: Unable to run BokehJS code because BokehJS library is missing\");\n",
              "        }\n",
              "      }\n",
              "    }, 25, root)\n",
              "  }\n",
              "})(window);</script>"
            ],
            "application/vnd.holoviews_exec.v0+json": "",
            "text/plain": [
              "Column\n",
              "    [0] TextInput(placeholder='Please enter y...)\n",
              "    [1] Row\n",
              "        [0] Button(name='Ask me')\n",
              "    [2] ParamFunction(function, _pane=Column, height=300, loading_indicator=True)"
            ]
          },
          "metadata": {
            "application/vnd.holoviews_exec.v0+json": {
              "id": "1296"
            }
          },
          "execution_count": 45
        }
      ]
    },
    {
      "cell_type": "markdown",
      "source": [
        "Wow! You did it! \n",
        "\n",
        "Your first ever AI-powered chatbot demo is done ✅ 🎉"
      ],
      "metadata": {
        "id": "z6ZmUE_9FCsD"
      }
    },
    {
      "cell_type": "markdown",
      "source": [
        "# AI in Finance: Real-Life Consequences (20 min)"
      ],
      "metadata": {
        "id": "OPQ_9aI6bUP4"
      }
    },
    {
      "cell_type": "markdown",
      "source": [
        "Your demo was a great success, your manager and some of the colleagues from the customer department are really happy with this tremendous result. They said that this demo is 1000% better than their current chatbot. They all are eager to move to the next step. \n",
        "\n",
        "However, you got an email from the compliance department, requesting to schedule an urgent meeting with you about this demo. Based on this email, it does not look like they are happy with it. \n",
        "\n",
        "\n",
        "---\n",
        "Why do you think the compliance department was so unhappy about the demo?\n",
        "\n",
        "What do you think happens with the data that you were exchanging with the model today (prompts, texts)?\n"
      ],
      "metadata": {
        "id": "kwlU6SKh6DRk"
      }
    },
    {
      "cell_type": "markdown",
      "source": [
        "## AI Chatbot: Limitations\n",
        "\n",
        "From hallucinating inaccurate information, to offensive outputs, to bias, and much more, language models may not be suitable for every use case without significant modifications.\n",
        "\n",
        "**Hallucination** - making statements that sound plausible but are not true."
      ],
      "metadata": {
        "id": "BH3Mj8fykxNU"
      }
    },
    {
      "cell_type": "code",
      "source": [
        "prompt = f\"\"\"\n",
        "Generate the full description of Ultra savvy super house insurance by ABN AMRO in 50 words\n",
        "\"\"\"\n",
        "answer = get_answer(prompt)\n",
        "print(answer)"
      ],
      "metadata": {
        "colab": {
          "base_uri": "https://localhost:8080/"
        },
        "id": "_cc4n_OkHJKw",
        "outputId": "475da3f8-1f96-44c6-e8e6-f938834dfc14"
      },
      "execution_count": 53,
      "outputs": [
        {
          "output_type": "stream",
          "name": "stdout",
          "text": [
            "ABN AMRO's Ultra Savvy Super House Insurance is a comprehensive insurance policy for your home, providing complete coverage for your property, personal possessions, and liability. With competitive premiums and great benefits including accidental damage cover, this insurance keeps your house and everything in it safe and secure.\n"
          ]
        }
      ]
    },
    {
      "cell_type": "code",
      "source": [
        "prompt = f\"\"\"\n",
        "Generate the full description of Power Ultraslim mortgage by ING in 60 words in Dutch and English\n",
        "\"\"\"\n",
        "answer = get_answer(prompt)\n",
        "print(answer)"
      ],
      "metadata": {
        "colab": {
          "base_uri": "https://localhost:8080/"
        },
        "id": "kokjVBPKHzef",
        "outputId": "7124e869-af52-4ea1-8920-7562f7273789"
      },
      "execution_count": 54,
      "outputs": [
        {
          "output_type": "stream",
          "name": "stdout",
          "text": [
            "Dutch: De Power Ultraslim Hypotheek van ING is de perfecte oplossing voor huizenkopers die een laag rentepercentage wensen en maximaal flexibiliteit bij het aflossen van hun hypotheek. De hypotheek is af te sluiten met een rentevaste periode van 10 of 20 jaar en biedt mogelijkheden voor tussentijdse aflossingen zonder extra kosten.\n",
            "\n",
            "English: ING's Power Ultraslim Mortgage is the perfect solution for homebuyers who want a low interest rate and maximum flexibility in repaying their mortgage. The mortgage can be taken out with a fixed interest rate period of 10 or 20 years and offers opportunities for interim repayments without extra costs.\n"
          ]
        }
      ]
    },
    {
      "cell_type": "code",
      "source": [
        "prompt = f\"\"\"\n",
        "Summarize general principles for the use of AI by financial institutions \"SAFEST\"\n",
        "\"\"\"\n",
        "answer = get_answer(prompt)\n",
        "print(answer)"
      ],
      "metadata": {
        "colab": {
          "base_uri": "https://localhost:8080/"
        },
        "id": "_6VGB58iKy_u",
        "outputId": "47712035-8322-48ce-f285-b3a1c3b672af"
      },
      "execution_count": 60,
      "outputs": [
        {
          "output_type": "stream",
          "name": "stdout",
          "text": [
            "SAFEST is an acronym for the general principles that financial institutions should follow when using AI:\n",
            "\n",
            "S - Scalability: As AI adoption grows, ensure that the technology can scale to fit the increasing needs of the organization.\n",
            "\n",
            "A - Accountability: Ensure clear accountability for AI outcomes and compliance with regulatory requirements.\n",
            "\n",
            "F - Fairness: Avoid any AI bias or discrimination against protected groups and ensure fair outcomes for all.\n",
            "\n",
            "E - Ethics: Implement ethical considerations and ensure AI is used to support, not replace, human decision-making.\n",
            "\n",
            "S - Security: Maintain robust cybersecurity measures to protect AI systems and customer data.\n",
            "\n",
            "T - Transparency: Ensure transparency in the decision-making process of AI, including the standards and data used to make decisions.\n"
          ]
        }
      ]
    },
    {
      "cell_type": "markdown",
      "source": [
        "Compare this answer with the real SAFEST principles. What do you see?"
      ],
      "metadata": {
        "id": "xz4PgURkMYVr"
      }
    },
    {
      "cell_type": "markdown",
      "source": [
        "## EU AI Act\n",
        "\n",
        "To ensure a human-centric and ethical development of Artificial Intelligence (AI) in Europe, **EU AI Act** will endorse new transparency and risk-management rules for AI systems.\n",
        "\n",
        "You can find the full description and the text [here](https://artificialintelligenceact.eu/)"
      ],
      "metadata": {
        "id": "aNf6jhd9jwLT"
      }
    },
    {
      "cell_type": "markdown",
      "source": [
        "## SAFEST \n",
        "\n",
        "General principles for the use of AI by financial institutions (‘SAFEST’)"
      ],
      "metadata": {
        "id": "ZyXPy5mNCQAe"
      }
    },
    {
      "cell_type": "markdown",
      "source": [
        "### Soundness\n",
        "\n",
        "AI applications in the financial sector should first and foremost be reliable and accurate, behave predictably, and operate within in the boundaries of applicable rules and regulations, including nonfinancial regulations, such as the GDPR. This aspect becomes particularly important when financial firms start to apply identical (or relatively similar) AI driven solutions and systemic risks might arise. Financial\n",
        "firms applying AI in their business processes should demonstrate that they have taken all necessary measures to ensure their business continuity.\n",
        "\n",
        "1. Ensure general compliance with regulatory\n",
        "obligations regarding AI applications.\n",
        "2. Mitigate financial (and other relevant\n",
        "prudential) risks in the development and use\n",
        "of AI applications.\n",
        "3. Pay special attention to the mitigation of\n",
        "model risk for material AI applications.\n",
        "4. Safeguard and improve the quality of data\n",
        "used by AI applications.\n",
        "5. Be in control of (the correct functioning of)\n",
        "procured and/or outsourced AI applications."
      ],
      "metadata": {
        "id": "vkQbtQ_TCioN"
      }
    },
    {
      "cell_type": "markdown",
      "source": [
        "### Accountability\n",
        "\n",
        "The workings of AI applications can be complex and\n",
        "difficult to understand. Furthermore, AI applications\n",
        "may not always function as intended and can result\n",
        "in damages for the firm itself, its customers and/\n",
        "or other relevant stakeholders. Especially when\n",
        "AI applications become more material, financial\n",
        "firms should demonstrate unequivocally that they\n",
        "understand their responsibility for AI applications\n",
        "and that they have operationalised accountability\n",
        "for these applications throughout their organisation.\n",
        "Model complexity or third party reliance should\n",
        "never be used as arguments for limiting the\n",
        "organisation’s accountability.\n",
        "\n",
        "6. Assign final accountability for AI applications\n",
        "and the management of associated risks\n",
        "clearly at the board of directors level.\n",
        "7. Integrate accountability in the organisation’s\n",
        "risk management framework.\n",
        "8. Operationalise accountability with regard to\n",
        "external stakeholders."
      ],
      "metadata": {
        "id": "JvwXCI3YCplu"
      }
    },
    {
      "cell_type": "markdown",
      "source": [
        "### Fairness\n",
        "\n",
        "Although fairness is primarily a conduct risk issue,\n",
        "it is vital for society’s trust in the financial sector\n",
        "that financial firms’ AI applications – individually\n",
        "or collectively – do not inadvertently disadvantage\n",
        "certain groups of customers. Whether we are\n",
        "talking about an AI that monitors transactions to\n",
        "detect money laundering, or one that facilitates loan\n",
        "decisions, financial firms should be able to define\n",
        "their concept of fairness and demonstrate how they\n",
        "ensure that their AI applications behave accordingly.\n",
        "\n",
        "9. Define and operationalise the concept of\n",
        "fairness in relation to your AI applications.\n",
        "10. Review (the outcomes of) AI applications for\n",
        "unintentional bias."
      ],
      "metadata": {
        "id": "w4XlErKIFv9j"
      }
    },
    {
      "cell_type": "markdown",
      "source": [
        "### Ethics\n",
        "\n",
        "As AI applications take on tasks that previously\n",
        "required human intelligence, financial firms should\n",
        "ensure that the outcomes of these systems do\n",
        "not violate the firm’s ethical standards. This moral\n",
        "obligation goes above and beyond compliance\n",
        "with applicable legal requirements. Financial firms\n",
        "should ensure that their customers, as well as other\n",
        "stakeholders, can trust that they are not mistreated\n",
        "or harmed – directly or indirectly – because of the\n",
        "firm’s deployment of AI, even if such applications\n",
        "operate within the boundaries of applicable laws\n",
        "and regulations.\n",
        "\n",
        "11. Specify objectives, standards, and\n",
        "requirements in an ethical code, to guide the\n",
        "adoption and application of AI.\n",
        "12. Align the (outcome of) AI applications with\n",
        "your organisation’s legal obligations, values\n",
        "and principles."
      ],
      "metadata": {
        "id": "cxEUpc6ZC4ZD"
      }
    },
    {
      "cell_type": "markdown",
      "source": [
        "### Skills\n",
        "\n",
        "As most AI applications augment human tasks,\n",
        "financial firms’ employees and management will\n",
        "increasingly come to rely on AI applications to\n",
        "support them in their work. Like with many other\n",
        "tools, wrong use can result in accidents and it is\n",
        "the organisation’s responsibility to ensure that\n",
        "their (senior) management, risk management and\n",
        "compliance functions have an adequate level of\n",
        "expertise. From the work floor to the board room,\n",
        "a sufficient understanding of the strengths and\n",
        "limitations of the organisation’s AI-enabled systems\n",
        "is vital.\n",
        "\n",
        "13. Ensure that senior management has a\n",
        "suitable understanding of AI (in relation to\n",
        "their roles and responsibilities).\n",
        "14. Train risk management and compliance\n",
        "personnel in AI.\n",
        "15. Develop awareness and understanding of\n",
        "AI within your organisation."
      ],
      "metadata": {
        "id": "wOQQOgh_C9sx"
      }
    },
    {
      "cell_type": "markdown",
      "source": [
        "### Transparency\n",
        "\n",
        "Transparency means that financial firms should be\n",
        "able to explain how they use AI in their business\n",
        "processes, and (where reasonably appropriate)\n",
        "how these applications function. Adherence to\n",
        "this principle enables adequate risk management\n",
        "and internal audits. This also means effective\n",
        "supervision of the correct workings of the firm’s AI\n",
        "applications to ensure stable operations. When the\n",
        "materiality of AI applications increases, so should\n",
        "the organisation’s efforts in understanding and\n",
        "controlling the applications' functioning. \n",
        "\n",
        "16. Be transparent about your policy and\n",
        "decisions regarding the adoption and use of\n",
        "AI internally.\n",
        "17. Advance traceability and explainability of\n",
        "AI driven decisions and model outcomes."
      ],
      "metadata": {
        "id": "fTdfMeXmDD1b"
      }
    },
    {
      "cell_type": "markdown",
      "source": [
        "# Concluding Remarks (5 min)"
      ],
      "metadata": {
        "id": "uJqN8-5sd5K9"
      }
    },
    {
      "cell_type": "markdown",
      "source": [
        "**The main take aways** of this lecture are:\n",
        "\n",
        "* A lot of AI models is already used in Finance and even more to come\n",
        "* Python is a great tool to build AI chatbots and AI models\n",
        "* Each and every AI model (chatbot) comes with consequences of using it in real life"
      ],
      "metadata": {
        "id": "kqU72auDeKBq"
      }
    },
    {
      "cell_type": "markdown",
      "source": [
        "\n",
        "## Further Resources on AI in Finance\n",
        "\n",
        "* Artificial Intelligence in Finance, ISBN 978-1-492-05543-3\n",
        "* Machine Learning and Data Science Blueprints for Finance, ISBN 978-1-492-07305-5\n",
        "* Machine Learning for Finance, ISBN 978-1-78913-636-4 \n",
        "* Python for Finance Cookbook - Second Edition, ISBN 978-1-80324-319-1\n",
        "* Hands-On Artificial Intelligence for Banking, ISBN 978-1-78883-078-2\n",
        "* Python for Algorithmic Trading, ISBN 978-1-492-05335-4\n",
        "* Machine Learning for Financial Risk Management with Python, ISBN 978-1-492-08525-6\n",
        "* Machine Learning for High-Risk Applications, ISBN 978-1-098-10243-2\n",
        "* Probabilistic Machine Learning for Finance and Investing, ISBN 978-1-492-09761-7\n"
      ],
      "metadata": {
        "id": "v9NCsatYozQ1"
      }
    },
    {
      "cell_type": "markdown",
      "source": [
        "## Used Materials\n",
        "\n",
        "* [General principles for the\n",
        "use of Artificial Intelligence\n",
        "in the financial sector](https://www.dnb.nl/media/voffsric/general-principles-for-the-use-of-artificial-intelligence-in-the-financial-sector.pdf)\n",
        "* [The Future of AI and Automation in Financial Services](https://www3.weforum.org/docs/WEF_Forging_New_Pathways_2020.pdf)\n",
        "* [OpenAI Documentiation](https://platform.openai.com/docs/introduction)\n",
        "* [OpenAI API reference](https://platform.openai.com/docs/api-reference)\n",
        "* [ChatGPT Promt Engineering for Developers Course by DeepLearning.AI](https://www.deeplearning.ai/short-courses/chatgpt-prompt-engineering-for-developers/)"
      ],
      "metadata": {
        "id": "AUqYArNMdRRZ"
      }
    }
  ]
}